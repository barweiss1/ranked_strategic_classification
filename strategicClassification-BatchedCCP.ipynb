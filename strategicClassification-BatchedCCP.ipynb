{
 "cells": [
  {
   "cell_type": "markdown",
   "metadata": {},
   "source": [
    "# Ranked Strategic Classification 🦚"
   ]
  },
  {
   "cell_type": "markdown",
   "metadata": {},
   "source": [
    "## Introduction"
   ]
  },
  {
   "cell_type": "markdown",
   "metadata": {},
   "source": [
    "In our project we tackle the problem of Stategic classification with user dependant responses. \n",
    "\n",
    "We introduce user dependance through competition on $k$ available spots which are given to the top-k rated users.\n",
    "\n",
    "This problem appears in our daily life in multiple places such as acceptance into universities and job interviews, where the users compete for a few available spots.\n",
    "\n",
    "These users are strategic, and can improve their ranking by changing their features. In the example of job interview, can for example create a specialized CV which they know will help them in getting into the job."
   ]
  },
  {
   "cell_type": "markdown",
   "metadata": {},
   "source": [
    "## Setting"
   ]
  },
  {
   "cell_type": "markdown",
   "metadata": {},
   "source": [
    " ### Notations\n",
    "- Time is assumed to be discrete and denoted by $t\\in\\{0,1,...\\}$\n",
    "- Each user $i$ has initial features $x_i(0)\\in \\mathbb{R}^d$\n",
    "- Each user $i$ updates his features at each time $t$ with a function $x_i(t) = \\Delta_h(x_i(0))$.\n",
    "  \n",
    "<ins>Note:</ins> For simplification, the user always updates his features based on his features at $t=0$.\n",
    "- The set of user features at time $t$ is denoted by $X_t$\n",
    "- Each user has a ground truth rating $r(x_i(0))\\in[0,1]$\n",
    "- We train a model to predict the true ratings $r_{\\theta}(x_i(t))$\n",
    "- Denote the sorted indices of the users based on $r_{\\theta}(x_i(t))$ by $s_i(t) = \\text{argsort}(\\{r_\\theta(x(t))\\}_{x(t)\\in X_t})[i]$\n",
    "\n",
    "Given all of the users and their features, the system predicts the rating for each user, $r_\\theta(x_i(t))$, and accepts the top-$k$ rated users $\\{x_{s_1(t)},...,x_{s_k(t)}\\}$. \n",
    "\n",
    "The users are able to change their features with the following function: $\\Delta_h(x)$\n",
    "\n"
   ]
  },
  {
   "cell_type": "markdown",
   "metadata": {},
   "source": [
    "## Environment"
   ]
  },
  {
   "cell_type": "markdown",
   "metadata": {},
   "source": [
    "We model the environment based on the environment from the paper: *S. Levanon, N. Rosenfeld: \"Strategic Classification Made Practical\", 2021*\n",
    "\n",
    "We assume a behavioral model for the user strategic response $\\Delta_h(\\cdot)$. Given the ratings at time $t$ we calculate 2 thresholds:\n",
    "\n",
    "$$\n",
    "T_{low} = r_\\theta(x_{s_k(t)}(t)), \\quad T_{high} = r_\\theta(x_{s_{k'}(t)}(t)) \n",
    "$$\n",
    "\n",
    "Where $k'< k$ is a positive integer. These thresholds are used to model the behavioral responses. \n",
    "\n",
    "We hypothesize that users will not be satisfied by sitting on the low threshold and will want acceptance confidence at the higher rating threshold. Using this we design the following reward function: \n",
    "\n",
    "$$h(r) = q\\cdot\\sigma^*_{\\tau}\\left(\\frac{r-T_{low}}{\\tau_{low}}\\right) + (1-q)\\cdot\\sigma^*_{\\tau}\\left(\\frac{r-T_{high}}{\\tau_{high}}\\right)$$\n",
    "\n",
    "Where $q\\in[0,1]$, and $\\sigma(\\cdot)$ is a sigmoid function that will be discussed in the CCP section. This gives small reward $q$ for acceptance and the rest is given for passing the higher threshold.\n",
    "\n",
    "The $\\tau$ parameters express the softness of threshold; small $\\tau$ will give a step like reward and large $\\tau$ will give a smoother reward.\n",
    "\n",
    "The user responses are modeled as \n",
    "\n",
    "$$\\Delta_h(x) = \\underset{x'}{\\text{argmax }} h(r_\\theta(x')) - c(x,x')$$\n",
    "\n",
    "Where $c(\\cdot,\\cdot)$ is a convex cost function for feature change, we use euclidean distance."
   ]
  },
  {
   "cell_type": "code",
   "execution_count": 2,
   "metadata": {
    "ExecuteTime": {
     "end_time": "2024-05-19T07:09:37.017437200Z",
     "start_time": "2024-05-19T07:09:24.724489500Z"
    }
   },
   "outputs": [],
   "source": [
    "%matplotlib notebook\n",
    "%matplotlib inline\n",
    "import cvxpy as cp\n",
    "import torch\n",
    "import numpy as np\n",
    "from cvxpylayers.torch import CvxpyLayer\n",
    "import matplotlib.pyplot as plt\n",
    "from mpl_toolkits.mplot3d import Axes3D\n",
    "from sklearn.metrics import zero_one_loss, confusion_matrix\n",
    "import pandas as pd\n",
    "import time\n",
    "import torch.optim as optim\n",
    "from torch.utils.data import TensorDataset, DataLoader\n",
    "from sklearn.datasets import make_classification\n",
    "import json\n",
    "import random\n",
    "import math\n",
    "import os, psutil\n",
    "from datetime import datetime\n",
    "from sklearn.metrics import ndcg_score, precision_score, recall_score, mean_squared_error\n",
    "\n",
    "torch.set_default_dtype(torch.float64)\n",
    "torch.manual_seed(0)\n",
    "np.random.seed(0)\n",
    "\n",
    "TRAIN_SLOPE = 1\n",
    "EVAL_SLOPE = 5\n",
    "X_LOWER_BOUND = -10\n",
    "X_UPPER_BOUND = 10\n",
    "SEED = 0"
   ]
  },
  {
   "cell_type": "markdown",
   "metadata": {},
   "source": [
    "# Utils"
   ]
  },
  {
   "cell_type": "markdown",
   "metadata": {},
   "source": [
    "A few useful utilities:"
   ]
  },
  {
   "cell_type": "code",
   "execution_count": 3,
   "metadata": {
    "ExecuteTime": {
     "end_time": "2024-05-19T07:09:37.033908900Z",
     "start_time": "2024-05-19T07:09:37.021539500Z"
    }
   },
   "outputs": [],
   "source": [
    "def split_data(X, Y, percentage):\n",
    "    num_val = int(len(X)*percentage)\n",
    "    return X[num_val:], Y[num_val:], X[:num_val], Y[:num_val]\n",
    "\n",
    "def shuffle(X, Y):\n",
    "    torch.manual_seed(0)\n",
    "    np.random.seed(0)\n",
    "    data = torch.cat((Y, X), 1)\n",
    "    data = data[torch.randperm(data.size()[0])]\n",
    "    X = data[:, 1:]\n",
    "    Y = data[:, 0]\n",
    "    return X, Y\n",
    "\n",
    "def conf_mat(Y1, Y2):\n",
    "    num_of_samples = len(Y1)\n",
    "    mat = confusion_matrix(Y1, Y2, labels=[-1, 1])*100/num_of_samples\n",
    "    acc = np.trace(mat)\n",
    "    return mat, acc\n",
    "\n",
    "def calc_accuracy(Y, Ypred):\n",
    "    num = len(Y)\n",
    "    temp = Y - Ypred\n",
    "    acc = len(temp[temp == 0])*1./num\n",
    "    return acc\n",
    "\n"
   ]
  },
  {
   "cell_type": "markdown",
   "metadata": {},
   "source": [
    "# Gain & Cost functions"
   ]
  },
  {
   "cell_type": "markdown",
   "metadata": {
    "collapsed": false
   },
   "source": [
    "In this section we implement the score functions and based on it, a differientiable sigmoid-like proxy for the sign operation in the $h$ function:\n",
    "\n",
    "$$\\sigma_\\tau^*(z) = 0.5 \\cdot \\sqrt{(\\tau^{-1}(z-T_{low})+1)^2+1} - 0.5 \\cdot \\sqrt{(\\tau^{-1}(z-T_{high})-1)^2+1}$$\n",
    "\n",
    "We denote $0.5 \\cdot \\sqrt{(\\tau^{-1}(z-T_{low})+1)^2+1}$ with $f(x)$ and $0.5 \\cdot \\sqrt{(\\tau^{-1}(z-T_{high})-1)^2+1}$ with $g(x)$.\n",
    "\n",
    "This function can be written as a sum of convex and concave funcitons, a property which is essential to the CCP method."
   ]
  },
  {
   "cell_type": "code",
   "execution_count": 4,
   "metadata": {
    "ExecuteTime": {
     "end_time": "2024-05-19T07:09:48.594754400Z",
     "start_time": "2024-05-19T07:09:48.571151Z"
    }
   },
   "outputs": [],
   "source": [
    "def score(x, w, b):\n",
    "    return x@w + b\n",
    "\n",
    "def f(x, w, b, slope, T):\n",
    "    return 0.5*cp.norm(cp.hstack([1, (slope*(score(x, w, b)-T) + 1)]), 2)\n",
    "    # return 0.5*cp.sqrt(1+cp.square((slope*(score(x, w, b) - T) + 1)))\n",
    "\n",
    "def g(x, w, b, slope, T):\n",
    "    res = 0.5*cp.norm(cp.hstack([1, (slope*(score(x, w, b) - T) - 1)]), 2)\n",
    "    return res\n",
    "\n",
    "def c(x, r, x_dim, scale):\n",
    "    return (scale)*cp.sum_squares(x-r)\n",
    "\n",
    "def f_derivative(x, w, b, slope, T):\n",
    "    return 0.5*cp.multiply(slope*((slope*(score(x, w, b)-T) + 1)/cp.sqrt((slope*(score(x, w, b)-T) + 1)**2 + 1)), w)\n",
    "\n",
    "def f_batch(x, w, b, slope, T):\n",
    "    return cp.norm(cp.vstack([np.ones(x.shape[0]), slope*(score(x, w, b) - T) + 1]), 2, axis=0)\n",
    "\n",
    "def g_batch(x, w, b, slope, T):\n",
    "    return cp.norm(cp.vstack([np.ones((1, x.shape[0])), cp.reshape((slope*(score(x, w, b)-T) - 1), (1, x.shape[0]))]), 2, axis=0)\n",
    "\n",
    "def c_batch(x, r, x_dim, scale):\n",
    "    return (scale)*cp.square(cp.norm(x-r, 2, axis=1))\n",
    "\n",
    "def f_derivative_batch(x, w, b, slope, T):\n",
    "    nablas = 0.5*slope*((slope*(score(x, w, b) - T) + 1)/cp.sqrt((slope*(score(x, w, b) - T) + 1)**2 + 1))\n",
    "    return cp.reshape(nablas, (nablas.shape[0], 1))@cp.reshape(w, (1, x.shape[1]))\n",
    "\n",
    "# ------------------------------------- Our added functions -------------------------------------\n",
    "# summing 2 sigmoids to model initial acceptance and higher acceptance in order to model user behavior of wanting to have some margin from min requirements\n",
    "\n",
    "def f_tot(x, w, b, slope_low, slope_high, Thresh_low, Thresh_high, acp_reward):\n",
    "    # acp_reward and 1-acp_reward must be explicitly stated as positive to make the DCP ruleset\n",
    "    # complie the expression as convex, otherwise it may be non-convex\n",
    "    return cp.pos(acp_reward) * f(x, w, b, slope_low, Thresh_low)+ cp.pos(1-acp_reward) * f(x, w, b, slope_high, Thresh_high)\n",
    "\n",
    "def g_tot(x, w, b, slope_low, slope_high, Thresh_low, Thresh_high, acp_reward):\n",
    "    # acp_reward and 1-acp_reward must be explicitly stated as positive to make the DCP ruleset\n",
    "    # complie the expression as convex, otherwise it may be non-convex\n",
    "    return cp.pos(acp_reward) * g(x, w, b, slope_low, Thresh_low)+ cp.pos(1-acp_reward) * g(x, w, b, slope_high, Thresh_high)\n",
    "\n",
    "def f_tot_derivative(x, w, b, slope_low, slope_high, Thresh_low, Thresh_high, acp_reward):\n",
    "    # acp_reward and 1-acp_reward must be explicitly stated as positive to make the DCP ruleset\n",
    "    # complie the expression as convex, otherwise it may be non-convex\n",
    "    f_der = cp.pos(acp_reward) * f_derivative(x, w, b, slope_low, Thresh_low) + cp.pos(1-acp_reward) * f_derivative(x, w, b, slope_high, Thresh_high)\n",
    "    return f_der\n",
    "\n",
    "def f_tot_batch(x, w, b, slope_low, slope_high, Thresh_low, Thresh_high, acp_reward):\n",
    "    # acp_reward and 1-acp_reward must be explicitly stated as positive to make the DCP ruleset\n",
    "    # complie the expression as convex, otherwise it may be non-convex\n",
    "    return cp.pos(acp_reward) * f_batch(x, w, b, slope_low, Thresh_low)+ cp.pos(1-acp_reward) * f_batch(x, w, b, slope_high, Thresh_high)\n",
    "\n",
    "def g_tot_batch(x, w, b, slope_low, slope_high, Thresh_low, Thresh_high, acp_reward):\n",
    "    # acp_reward and 1-acp_reward must be explicitly stated as positive to make the DCP ruleset\n",
    "    # complie the expression as convex, otherwise it may be non-convex\n",
    "    return cp.pos(acp_reward) * g_batch(x, w, b, slope_low, Thresh_low)+ cp.pos(1-acp_reward) * g_batch(x, w, b, slope_high, Thresh_high)\n",
    "\n",
    "def f_tot_derivative_batch(x, w, b, slope_low, slope_high, Thresh_low, Thresh_high, acp_reward):\n",
    "    return acp_reward * f_derivative_batch(x, w, b, slope_low, Thresh_low)+ (1-acp_reward) * f_derivative_batch(x, w, b, slope_high, Thresh_high)\n",
    "\n",
    "# -----------------------------------------------------------------------------------------------"
   ]
  },
  {
   "cell_type": "markdown",
   "metadata": {},
   "source": [
    "# CCP classes"
   ]
  },
  {
   "cell_type": "markdown",
   "metadata": {},
   "source": [
    "Defining a CCP class based on the one implemented in the paper referenced above.\n",
    "\n",
    "Convex-Concave Procedure (in short CCP) is an iterative method for solving optimization problems that are expressed as a difference of convex functions, like the one we have in our problem.\n",
    "\n",
    "It does so by iterating through a sequence of concave-relaxed problems (using Taylor series to linearize on of the functions), a process that guarantees convergence to local maxima.\n",
    "\n",
    "We use $h(r)$ which is **a linear combination** of the sigmoid-like proxy described above to model the users behavior.\n",
    "\n",
    "As reminded above, this sigmoid function can be written as a difference of convex functions and is therefore perfect for CCP. \n",
    "\n",
    "Because $h(r)$ is a linear combination of sigmoids, it can also be discribed as a difference of convex functions and we can use CCP."
   ]
  },
  {
   "cell_type": "code",
   "execution_count": 5,
   "metadata": {
    "ExecuteTime": {
     "end_time": "2024-05-19T07:09:53.349341500Z",
     "start_time": "2024-05-19T07:09:53.296920700Z"
    }
   },
   "outputs": [],
   "source": [
    "class CCP_rank:\n",
    "    def __init__(self, x_dim, batch_size, funcs, scale):\n",
    "        self.f_derivative = funcs[\"f_derivative\"]\n",
    "        self.g = funcs[\"g\"]\n",
    "        self.c = funcs[\"c\"]\n",
    "        self.batch_size = batch_size\n",
    "\n",
    "        self.x = cp.Variable((batch_size, x_dim))\n",
    "        self.xt = cp.Parameter((batch_size, x_dim))\n",
    "        self.r = cp.Parameter((batch_size, x_dim))\n",
    "        \n",
    "        self.w = cp.Parameter(x_dim)\n",
    "        self.b = cp.Parameter(1) # bias parameter\n",
    "\n",
    "        # -------------------- adding our function's params --------------------\n",
    "        self.slope_low = cp.Parameter(1) # scale of the low threshold sigmoid\n",
    "        self.slope_high = cp.Parameter(1) # scale of the high threshold sigmoid\n",
    "        self.T_low = cp.Parameter(1) # low threshold of the sigmoid\n",
    "        self.T_high = cp.Parameter(1) # high threshold of the sigmoid\n",
    "        self.acp_reward = cp.Parameter(1) # defines the reward for passing initial threshhold - q in the equations \n",
    "        # ----------------------------------------------------------------------\n",
    "\n",
    "        # -------------------- defining our target function --------------------\n",
    "        target = cp.diag(self.x@(self.f_derivative(self.xt, self.w, self.b, \n",
    "                        self.slope_low, self.slope_high, self.T_low, self.T_high, self.acp_reward).T)) - self.g(self.x, self.w,\n",
    "                        self.b, self.slope_low, self.slope_high, self.T_low, self.T_high, self.acp_reward) - self.c(self.x, self.r,\n",
    "                        x_dim, scale)\n",
    "        # # ----------------------------------------------------------------------\n",
    "        constraints = [self.x >= X_LOWER_BOUND,\n",
    "                       self.x <= X_UPPER_BOUND]\n",
    "        # define the problem's objective\n",
    "        self.prob = cp.Problem(cp.Maximize(cp.sum(target)), constraints)\n",
    "\n",
    "    def ccp(self, r):\n",
    "        \"\"\"\n",
    "        numpy to numpy\n",
    "        \"\"\"\n",
    "        self.xt.value = r\n",
    "        self.r.value = r\n",
    "        result = self.prob.solve()\n",
    "        diff = np.linalg.norm(self.xt.value - self.x.value)\n",
    "        cnt = 0\n",
    "        while diff > 0.001 and cnt < 100:\n",
    "            cnt += 1\n",
    "            self.xt.value = self.x.value\n",
    "            result = self.prob.solve()\n",
    "            diff = np.linalg.norm(self.x.value - self.xt.value)/self.batch_size\n",
    "        return self.x.value\n",
    "\n",
    "    def optimize_X(self, X, w, b, slope_low, slope_high, T_low, T_high, acp_reward):\n",
    "        \"\"\"\n",
    "        tensor to tensor\n",
    "        \"\"\"\n",
    "        w = w.detach().numpy()\n",
    "        b = b.detach().numpy()\n",
    "        T_low = T_low.detach().numpy()\n",
    "        T_high = T_high.detach().numpy()\n",
    "        \n",
    "\n",
    "        # converting our params into numpy arrays with 1 value\n",
    "        slope_low = np.full(1, slope_low)\n",
    "        slope_high = np.full(1, slope_high)\n",
    "        T_low = np.full(1, T_low)\n",
    "        T_high = np.full(1, T_high)\n",
    "        acp_reward = np.full(1, acp_reward)\n",
    "\n",
    "        X = X.numpy()\n",
    "\n",
    "        self.w.value = w\n",
    "        self.b.value = b\n",
    "        self.slope_low.value = slope_low\n",
    "        self.slope_high.value = slope_high\n",
    "        self.T_low.value = T_low\n",
    "        self.T_high.value = T_high\n",
    "        self.acp_reward.value = acp_reward\n",
    "\n",
    "        # for non-batch usage\n",
    "        # return torch.stack([torch.from_numpy(self.ccp(x)) for x in X])\n",
    "\n",
    "        # for batch usage\n",
    "        return torch.from_numpy(self.ccp(X))"
   ]
  },
  {
   "cell_type": "markdown",
   "metadata": {},
   "source": [
    "### Delta \n",
    "This module uses the CCP procedure to compute the user responses."
   ]
  },
  {
   "cell_type": "code",
   "execution_count": 6,
   "metadata": {
    "ExecuteTime": {
     "end_time": "2024-05-19T07:09:57.278074Z",
     "start_time": "2024-05-19T07:09:57.186188700Z"
    }
   },
   "outputs": [],
   "source": [
    "class DELTA():\n",
    "\n",
    "    def __init__(self, x_dim, funcs, scale, slope_low, slope_high, acp_reward):\n",
    "        self.g = funcs[\"g\"]\n",
    "        self.c = funcs[\"c\"]\n",
    "\n",
    "        self.x = cp.Variable(x_dim)\n",
    "        self.r = cp.Parameter(x_dim, value = np.random.randn(x_dim))\n",
    "        self.w = cp.Parameter(x_dim, value = np.random.randn(x_dim))\n",
    "        self.b = cp.Parameter(1, value = np.random.randn(1))\n",
    "        self.f_der = cp.Parameter(x_dim, value = np.random.randn(x_dim))\n",
    "        # -------------------- adding our function's params --------------------\n",
    "        self.slope_low = slope_low # scale of the low threshold sigmoid\n",
    "        self.slope_high = slope_high # scale of the high threshold sigmoid\n",
    "        self.T_low = cp.Parameter(1) # low threshold of the sigmoid\n",
    "        self.T_high = cp.Parameter(1) # high threshold of the sigmoid\n",
    "        self.acp_reward = acp_reward # the relation between the 2 slopes - defines the reward for passing initial threshhold\n",
    "        # ----------------------------------------------------------------------\n",
    "\n",
    "        # -------------------- defining our target function --------------------\n",
    "        target = self.x@self.f_der-self.g(self.x, self.w, self.b, \n",
    "                        self.slope_low, self.slope_high, self.T_low, \n",
    "                        self.T_high, self.acp_reward)-self.c(self.x, self.r, x_dim, scale)\n",
    "        # ----------------------------------------------------------------------\n",
    "        constraints = [self.x >= X_LOWER_BOUND,\n",
    "                       self.x <= X_UPPER_BOUND]\n",
    "        objective = cp.Maximize(target)\n",
    "        problem = cp.Problem(objective, constraints)\n",
    "        self.layer = CvxpyLayer(problem, parameters=[self.r, self.w, self.b, self.f_der, self.T_low, self.T_high], variables=[self.x])\n",
    "        \n",
    "\n",
    "    def optimize_X(self, X, w, b, F_DER, T_low, T_high):\n",
    "        return self.layer(X, w, b, F_DER, T_low, T_high)[0]"
   ]
  },
  {
   "cell_type": "markdown",
   "metadata": {},
   "source": [
    "# Model"
   ]
  },
  {
   "cell_type": "code",
   "execution_count": 7,
   "metadata": {},
   "outputs": [],
   "source": [
    "# defining special Dataset for batch handling\n",
    "class CustomDataset(TensorDataset):\n",
    "    def __init__(self, X, R):\n",
    "        \"\"\"\n",
    "        Args:\n",
    "            X (torch.Tensor): The input tensor of shape (m, n, d)\n",
    "            R (torch.Tensor): The label tensor of shape (m, n)\n",
    "        \"\"\"\n",
    "        self.X = X\n",
    "        self.R = R\n",
    "\n",
    "    def __len__(self):\n",
    "        # Return the number of samples (m)\n",
    "        return self.X.shape[0]\n",
    "\n",
    "    # note: need to apply the squeeze function in order to remove the extra dimention\n",
    "    def __getitem__(self, idx):\n",
    "        # Return a single sample of shape (n, d)\n",
    "        return self.X[idx], self.R[idx]"
   ]
  },
  {
   "cell_type": "code",
   "execution_count": 8,
   "metadata": {
    "ExecuteTime": {
     "end_time": "2024-05-19T07:56:12.970166500Z",
     "start_time": "2024-05-19T07:56:12.961122900Z"
    }
   },
   "outputs": [],
   "source": [
    "class MyStrategicModel(torch.nn.Module):\n",
    "    def __init__(self, batch_size, env, strategic=False):\n",
    "        torch.manual_seed(0)\n",
    "        np.random.seed(0)\n",
    "\n",
    "        super(MyStrategicModel, self).__init__()\n",
    "        self.env = env\n",
    "        self.x_dim = env.n_features\n",
    "        self.batch_size = batch_size\n",
    "        # not sure why test slopes are different from test and train - still done here because original SCMP did it \n",
    "        self.train_slope_low, self.train_slope_high, self.test_slope_low, self.test_slope_high = env.slope_low, env.slope_high, 5*env.slope_low, 5*env.slope_high\n",
    "        self.w = torch.nn.parameter.Parameter(math.sqrt(1/self.x_dim)*(1-2*torch.rand(self.x_dim, dtype=torch.float64, requires_grad=True)))\n",
    "        self.b = torch.nn.parameter.Parameter(math.sqrt(1/self.x_dim)*(1-2*torch.rand(1, dtype=torch.float64, requires_grad=True)))\n",
    "        self.acp_reward = env.acp_reward\n",
    "        self.strategic = strategic\n",
    "        self.ccp = CCP_rank(self.x_dim, batch_size, env.funcs_batch, env.scale)\n",
    "        self.delta = DELTA(self.x_dim, env.funcs, env.scale, self.train_slope_low, self.train_slope_high, self.acp_reward)\n",
    "        self.ccp_time = 0\n",
    "        self.total_time = 0\n",
    "        \n",
    "        \n",
    "    def forward(self, X, use_delta=False, evaluation=False):\n",
    "        \n",
    "        if self.strategic:\n",
    "            t1 = time.time()\n",
    "            # currently not distinguishing between train and test slopes\n",
    "            Xt, X_opt = self.env.full_dynamic_update(X, self.w, self.b, use_delta)\n",
    "            \n",
    "            self.ccp_time += time.time()-t1\n",
    "            X_opt = Xt if evaluation else X_opt\n",
    "            output = self.score(X_opt)\n",
    "        else:\n",
    "            output = self.score(X)\n",
    "        return output\n",
    "\n",
    "\n",
    "    def normalize_weights(self):\n",
    "        with torch.no_grad():\n",
    "            norm = torch.sqrt(torch.sum(self.w**2) + self.b**2)\n",
    "            self.w /= norm\n",
    "            self.b /= norm\n",
    "            \n",
    "    \n",
    "    def get_wb(self):\n",
    "        return self.w, self.b\n",
    "    \n",
    "    \n",
    "    def score(self, x):\n",
    "        return x@self.w + self.b\n",
    "\n",
    "    def get_f_ders(self, XT, slope):\n",
    "        nablas = 0.5*slope*((slope*self.score(XT) + 1)/torch.sqrt((slope*self.score(XT) + 1)**2 + 1))\n",
    "        return torch.reshape(nablas, (len(nablas), 1))@torch.reshape(self.w, (1, len(self.w)))\n",
    "\n",
    "    def calc_accuracy(self, R, R_pred):\n",
    "        # calculating acceptance label from ratings\n",
    "        Y = self.rating_to_accept(R)\n",
    "        Y_pred = self.rating_to_accept(R_pred)\n",
    "\n",
    "        # calculating accuracy based on Y and Y_pred\n",
    "        temp = Y - Y_pred\n",
    "        acc = len(temp[temp == 0])*1./len(Y)\n",
    "        return acc\n",
    "    \n",
    "    def calc_burden(self, X_0, Y):\n",
    "        # calculating the burden in a similar fashion to the original paper\n",
    "        X_t, _ = self.env.full_dynamic_update(X_0, self.w, self.b, use_delta=False)\n",
    "        # i.e., only taking those who were supposed to get accepted\n",
    "        X_0_pos = X_0[Y==1]\n",
    "        X_t_pos = X_t[Y==1]\n",
    "        if len(X_0_pos) == 0:\n",
    "            return 0\n",
    "        # and measure how much they moved (although they are supposed to get accepted without effort) in order to get accepted\n",
    "        return torch.mean(torch.sum((X_0_pos-X_t_pos)**2, dim=1)).detach().numpy()\n",
    "\n",
    "    \n",
    "    # convert rating vector to acceptance\n",
    "    def rating_to_accept(self, R):\n",
    "        # calculating Y_pred out of score_pred\n",
    "        Y = np.zeros_like(R)\n",
    "        # getting the top-k values\n",
    "        top_k_ranking_indices = np.argsort(R)[-self.env.k:]\n",
    "        Y[top_k_ranking_indices] = 1\n",
    "        return Y\n",
    "\n",
    "    # we use mean squared loss between provided ratings\n",
    "    def loss(self, Y, Y_pred):\n",
    "        return torch.mean((Y-Y_pred) ** 2)\n",
    "\n",
    "    def save_model(self, train_errors, val_errors, train_losses, val_losses, info, path, comment=None):\n",
    "        if comment is not None:\n",
    "            path += \"/\" + comment\n",
    "\n",
    "        filename = path + \"/model.pt\"\n",
    "        if not os.path.exists(os.path.dirname(filename)):\n",
    "            os.makedirs(os.path.dirname(filename))\n",
    "        torch.save(self.state_dict(), filename)\n",
    "\n",
    "        pd.DataFrame(np.array(train_errors)).to_csv(path + '/train_errors.csv')\n",
    "        pd.DataFrame(np.array(val_errors)).to_csv(path + '/val_errors.csv')\n",
    "        pd.DataFrame(np.array(train_losses)).to_csv(path + '/train_losses.csv')\n",
    "        pd.DataFrame(np.array(val_losses)).to_csv(path + '/val_losses.csv')\n",
    "\n",
    "        with open(path + \"/info.txt\", \"w\") as f:\n",
    "            f.write(info)\n",
    "\n",
    "    def load_model(self, filename):\n",
    "        self.load_state_dict(torch.load(filename))\n",
    "        self.eval()\n",
    "\n",
    "    # we fit according to score as a proxy to the ranking for simplicity reasons\n",
    "    def fit(self, path, X, R, Xval, Rval, opt, opt_kwargs={\"lr\":1e-3}, epochs=100, verbose=False, callback=None, comment=None):\n",
    "        # labels are the true rating \n",
    "        # loading the datasets\n",
    "        # using our dataset which inherits from TensorDataset\n",
    "        train_dset = CustomDataset(X, R)\n",
    "        train_loader = DataLoader(train_dset, batch_size=1, shuffle=True)\n",
    "        test_dset = CustomDataset(Xval, Rval)\n",
    "        test_loader = DataLoader(test_dset, batch_size=1, shuffle=True)\n",
    "\n",
    "        # optimizing the NN\n",
    "        opt = opt(self.parameters(), **opt_kwargs)\n",
    "\n",
    "        train_losses = []\n",
    "        val_losses = []\n",
    "        train_errors = []\n",
    "        val_errors = []\n",
    "\n",
    "        # adding our score metrics (ndcg, precision, recall...)\n",
    "        our_train_metrics = []\n",
    "        our_test_metrics = []\n",
    "\n",
    "        # defining stopping conditions\n",
    "        # best_val_error = 1\n",
    "        best_val_loss = np.inf\n",
    "        consecutive_no_improvement = 0\n",
    "\n",
    "        # runnning epochs\n",
    "        total_time = time.time()\n",
    "        for epoch in range(epochs):\n",
    "            t1 = time.time()\n",
    "            batch = 1\n",
    "            train_losses.append([])\n",
    "            train_errors.append([])\n",
    "            for Xbatch, Rbatch in train_loader:\n",
    "#                 try:\n",
    "                # need to squeeze in order to remove redundant dimention\n",
    "                Xbatch = Xbatch.squeeze()\n",
    "                Rbatch = Rbatch.squeeze()\n",
    "\n",
    "                opt.zero_grad()\n",
    "                Rbatch_pred = self.forward(Xbatch)\n",
    "                l = self.loss(Rbatch, Rbatch_pred)\n",
    "                l.backward()\n",
    "                opt.step()\n",
    "                train_losses[-1].append(l.item())\n",
    "                with torch.no_grad():\n",
    "                    # calculating accuracy\n",
    "                    e = self.calc_accuracy(Rbatch, Rbatch_pred)\n",
    "\n",
    "                    # calculating different scores to the ranking\n",
    "                    Y = self.rating_to_accept(Rbatch)\n",
    "                    Y_pred = self.rating_to_accept(Rbatch_pred)\n",
    "                    our_train_metrics.append({\n",
    "                        \"epoch num\" : epoch,\n",
    "                        \"batch num\" : batch,\n",
    "                        \"accuracy\" : e,\n",
    "                        \"loss\" : l.item(),\n",
    "                        \"ndcg\" : ndcg_score(np.expand_dims(Rbatch, 0), np.expand_dims(Rbatch_pred, 0)),\n",
    "                        \"precision\" : precision_score(Y, Y_pred),\n",
    "                        \"recall\" : recall_score(Y, Y_pred),\n",
    "                        \"burden\" : self.calc_burden(Xbatch, Y),\n",
    "                    })\n",
    "                    \n",
    "                    train_errors[-1].append(1-e)\n",
    "                if verbose:\n",
    "                    print(\"batch %03d / %03d | loss: %3.5f | err: %3.5f\" %\n",
    "                          (batch, len(train_loader), np.mean(train_losses[-1]), np.mean(train_errors[-1])))\n",
    "                batch += 1\n",
    "                if callback is not None:\n",
    "                    callback()\n",
    "#                 except:\n",
    "#                     print(\"failed\")\n",
    "\n",
    "            with torch.no_grad():\n",
    "                total_loss = 0\n",
    "                total_error = 0\n",
    "                batch = 0\n",
    "                for Xbatch, Rbatch in test_loader:\n",
    "#                     try:\n",
    "                    Xbatch = Xbatch.squeeze()\n",
    "                    Rbatch = Rbatch.squeeze()\n",
    "                    Rval_pred = self.forward(Xbatch, evaluation=True)\n",
    "                    val_loss = self.loss(Rbatch, Rval_pred).item()\n",
    "                    total_loss += val_loss\n",
    "                    val_error = 1-self.calc_accuracy(Rbatch, Rval_pred)\n",
    "                    total_error += val_error\n",
    "                    batch += 1\n",
    "#                     except:\n",
    "#                         print(\"failed\")\n",
    "                avg_loss = total_loss/batch\n",
    "                avg_error = total_error/batch\n",
    "                # calculating different scores to the ranking\n",
    "                Y = self.rating_to_accept(Rbatch)\n",
    "                Y_pred = self.rating_to_accept(Rval_pred)\n",
    "                our_test_metrics.append({\n",
    "                    \"epoch num\" : epoch,\n",
    "                    \"batch num\" : batch,\n",
    "                    \"accuracy\" : 1 - avg_error,\n",
    "                    \"loss\" : avg_loss,\n",
    "                    \"ndcg\" : ndcg_score(np.expand_dims(Rbatch, 0), np.expand_dims(Rval_pred, 0)),\n",
    "                    \"precision\" : precision_score(Y, Y_pred),\n",
    "                    \"recall\" : recall_score(Y, Y_pred),\n",
    "                    \"burden\" : self.calc_burden(Xbatch, Y),\n",
    "                })\n",
    "                val_losses.append(avg_loss)\n",
    "                val_errors.append(avg_error)\n",
    "                if avg_loss < best_val_loss:\n",
    "                        consecutive_no_improvement = 0\n",
    "                        best_val_error = avg_error\n",
    "                        info = \"training time in seconds: {}\\nepoch: {}\\nbatch size: {}\\nslope low: {}\\nslope high: {}\\nlearning rate: {}\\nvalidation loss: {}\\nvalidation error: {}\\n\".format(\n",
    "                        time.time()-total_time, epoch, self.batch_size, self.train_slope_low, self.train_slope_high, opt_kwargs[\"lr\"], avg_loss, avg_error)\n",
    "                        self.save_model(train_errors, val_errors, train_losses, val_losses, info, path, comment)\n",
    "                        print(\"model saved!\")\n",
    "\n",
    "                else:\n",
    "                    consecutive_no_improvement += 1\n",
    "                    if consecutive_no_improvement >= 4:\n",
    "                        break\n",
    "\n",
    "            t2 = time.time()\n",
    "            if verbose:\n",
    "                print(\"------------- epoch %03d / %03d | time: %03d sec | loss: %3.5f | err: %3.5f\" % (epoch + 1, epochs, t2-t1, val_losses[-1], val_errors[-1]))\n",
    "\n",
    "        self.total_time = time.time()-total_time\n",
    "        print(\"training time: {} seconds\".format(self.total_time))\n",
    "        # returning our metrics in addition to the errors\n",
    "        return our_train_metrics, our_test_metrics\n",
    "    \n",
    "    "
   ]
  },
  {
   "cell_type": "markdown",
   "metadata": {},
   "source": [
    "### Data Generation\n",
    "- user features generated randomly\n",
    "- ground truth rating model is $r(x)=u^Tx$ \n",
    "- observed noisy ratings $\\tilde{r}(x)=r(x)+\\epsilon$, where $\\epsilon \\sim \\mathcal{N}(0,\\sigma^2_\\epsilon)$."
   ]
  },
  {
   "cell_type": "markdown",
   "metadata": {
    "collapsed": false
   },
   "source": [
    "## Training Environment\n",
    "\n",
    "Each training step will include several dynamic iterations (user feature updates) and after that a single update of the system features $\\theta$.\n",
    "\n",
    "Pseudocode of the training:\n",
    "\n",
    "- until model convergence:\n",
    "    - for $t = 0:T$\n",
    "        - Get $T_{low},T_{high}$ from $r_{\\theta}(\\cdot)$ and $x_t$\n",
    "        - $x_{t+1} = \\Delta_h(x_t,T_{low},T_{high})$\n",
    "    - Update model based on $x_T,r$\n",
    "    - $w,b = GD(x_T,r)$\n",
    "\n",
    "In test time we will evaluate features after the dynamic iteration i.e., $x_T$."
   ]
  },
  {
   "cell_type": "code",
   "execution_count": 9,
   "metadata": {
    "ExecuteTime": {
     "end_time": "2024-05-19T07:10:08.859205900Z",
     "start_time": "2024-05-19T07:10:08.797301400Z"
    }
   },
   "outputs": [],
   "source": [
    "class RankingEnv():\n",
    "    \"\"\"\n",
    "    Strategic Classification Environment\n",
    "    \"\"\"\n",
    "    def __init__(self, noisyscale, n_features, k, k_tag, n_users, slope_low, slope_high, acp_reward, funcs, funcs_batch, scale, n_batch=1):\n",
    "        self.noisyscale = noisyscale\n",
    "        self.n_features = n_features\n",
    "        self.k = k  # k is number of accepted users\n",
    "        self.k_tag = k_tag  # k' < k sets the threshold of confidant acceptance\n",
    "        self.system_attributes = torch.randn(size=(n_features,))*0.1  # u system rating vector, multiplying in 0.1, the scale\n",
    "        \n",
    "        # system variables \n",
    "        self.w = torch.nn.parameter.Parameter(math.sqrt(1/n_features)*(1-2*torch.rand(n_features, dtype=torch.float64, requires_grad=True)))\n",
    "        self.b = torch.nn.parameter.Parameter(math.sqrt(1/n_features)*(1-2*torch.rand(1, dtype=torch.float64, requires_grad=True)))\n",
    "        \n",
    "        # Delta parameters\n",
    "        self.slope_low = slope_low # scale of the low threshold sigmoid\n",
    "        self.slope_high = slope_high # scale of the high threshold sigmoid\n",
    "        self.acp_reward = acp_reward # the relation between the 2 slopes - defines the reward for passing initial threshhold\n",
    "        self.scale = scale  # cost function scale\n",
    "        self.n_batch = n_batch # number of train-set batches. diffault is 1 (without batches - 1 for train and 1 for test)\n",
    "        self.funcs = funcs\n",
    "        self.funcs_batch = funcs_batch\n",
    "        self.ccp = CCP_rank(n_features, batch_size=n_users, funcs=funcs_batch, scale=scale)\n",
    "        self.delta = DELTA(n_features, funcs, scale, slope_low, slope_high, acp_reward)\n",
    "\n",
    "        \n",
    "        # user variables \n",
    "        self.n_users = n_users\n",
    "        self.t = 0  # time indicator\n",
    "        self.T_max = 5  #  number of dynamic iterations\n",
    "    \n",
    "    \n",
    "    # generating dataset for train or test sets. In case of a train-set, generate n_batch datasets. In case of test-set, generate 1 dataset.\n",
    "    def generate_dataset(self, is_test=False):\n",
    "        dataset_num = self.n_batch if not is_test else 1\n",
    "        X = torch.zeros((dataset_num,self.n_users, self.n_features))\n",
    "        R = torch.zeros((dataset_num,self.n_users))\n",
    "        y = torch.zeros((dataset_num,self.n_users))\n",
    "\n",
    "        for i in range(dataset_num):\n",
    "            X[i,:,:] = self.generate_users(self.n_users)\n",
    "            R[i,:] = self.rating(X[i,:,:])\n",
    "            y[i,:] = self.get_true_accepted(X[i,:,:]) \n",
    "        return X,R,y\n",
    "        \n",
    "    def generate_users(self, n_users):\n",
    "        return torch.randn(size = (n_users, self.n_features)) * 0.1 # multiplying in 0.1, the scale\n",
    "    \n",
    "    \n",
    "    def rating(self, users):\n",
    "        # return noisy users rating, when the noise is normally distributed\n",
    "        clean_ratings = users@self.system_attributes.T\n",
    "        noise = torch.randn_like(clean_ratings) * self.noisyscale # multiplying in the noisyscale\n",
    "        return clean_ratings + noise\n",
    "    \n",
    "    def get_thresh(self, X):\n",
    "        ranking = self.score(X)\n",
    "        # reversing the sort into a descending order\n",
    "        sorted_ranking , _= torch.sort(ranking, descending=True)\n",
    "        # calculate thresholds from k and k_tag\n",
    "        return sorted_ranking[self.k-1].reshape(1), sorted_ranking[self.k_tag-1].reshape(1)\n",
    "    \n",
    "    # returns ground truth ratings for users\n",
    "    def get_true_accepted(self, X):\n",
    "        ranking = self.rating(X)\n",
    "        acceptance = torch.zeros_like(ranking)\n",
    "        # sort ranking in descending order\n",
    "        _ , sorted_indices = torch.sort(ranking, descending=True)\n",
    "        acceptance[sorted_indices[:self.k]] = 1\n",
    "        return acceptance\n",
    "    \n",
    "    def user_features_update(self, X, Xt, use_delta=False):\n",
    "        # update features based on the response function\n",
    "        self.t += 1\n",
    "        # update features\n",
    "        T_low, T_high = self.get_thresh(Xt)\n",
    "        XT = self.ccp.optimize_X(X, self.w, self.b, self.slope_low, self.slope_high, T_low,\n",
    "                                 T_high, self.acp_reward)\n",
    "        if use_delta:\n",
    "            F_DER = self.get_f_ders(XT, self.slope_low, self.slope_high, T_low, T_high)\n",
    "            X_opt = self.delta.optimize_X(X, self.w, self.b, F_DER, T_low, T_high) # Xopt should be equal to XT but repeat for gradients\n",
    "            return X_opt # this includes the whole dynamic process in the derivatives\n",
    "        else:\n",
    "            return XT \n",
    "        \n",
    "    def update_wb(self, w, b):\n",
    "        self.w = w\n",
    "        self.b = b\n",
    "        self.t = 0  # reset time as new paramemters show \n",
    "    \n",
    "    def full_dynamic_update(self, X, w, b, use_delta=False):\n",
    "        self.update_wb(w, b)\n",
    "        Xt = X\n",
    "        for _ in range(self.T_max):\n",
    "            Xt = self.user_features_update(X, Xt, use_delta=use_delta)\n",
    "        # if delta wasn't used it must be used in the last step\n",
    "        X_opt = Xt\n",
    "        if not use_delta:\n",
    "            T_low, T_high = self.get_thresh(Xt)\n",
    "            F_DER = self.get_f_ders(Xt, self.slope_low, self.slope_high, T_low, T_high)\n",
    "            X_opt = self.delta.optimize_X(X, self.w, self.b, F_DER, T_low, T_high)\n",
    "        # returning both in order to support evaluation condition in forward\n",
    "        return Xt, X_opt\n",
    "    \n",
    "    \n",
    "    def get_f_ders_helper(self, XT, slope, T):\n",
    "        nablas = 0.5*slope*((slope*(self.score(XT) - T) + 1)/torch.sqrt((slope*(self.score(XT) - T) + 1)**2 + 1))\n",
    "        return torch.reshape(nablas, (len(nablas), 1))@torch.reshape(self.w, (1, len(self.w)))\n",
    "    \n",
    "    def get_f_ders(self, XT, slope_low, slope_high, T_low, T_high):\n",
    "        return (self.acp_reward*self.get_f_ders_helper(XT, slope_low, T_low) + \n",
    "                (1-self.acp_reward)*self.get_f_ders_helper(XT, slope_high, T_high))\n",
    "    \n",
    "    def score(self, x):\n",
    "        return x@self.w + self.b\n",
    "    "
   ]
  },
  {
   "cell_type": "code",
   "execution_count": 10,
   "metadata": {
    "ExecuteTime": {
     "end_time": "2024-05-19T07:10:13.530515500Z",
     "start_time": "2024-05-19T07:10:13.362929Z"
    },
    "collapsed": false
   },
   "outputs": [],
   "source": [
    "# initialize env\n",
    "funcs = {\"f\": f_tot, \"g\": g_tot, \"f_derivative\": f_tot_derivative, \"c\": c, \"score\": score}\n",
    "funcs_batch = {\"f\": f_tot_batch, \"g\": g_tot_batch, \"f_derivative\": f_tot_derivative_batch, \"c\": c_batch, \"score\": score}\n",
    "env_params = {'noisyscale' : 0.01,\n",
    "              'n_features' : 5,\n",
    "              'k' : 40,\n",
    "              'k_tag' : 20,\n",
    "              'n_users': 400,\n",
    "              'slope_low' : 40,\n",
    "              'slope_high' : 10,\n",
    "              'acp_reward' : 0.6,\n",
    "              'funcs' : funcs,\n",
    "              'funcs_batch' : funcs_batch,\n",
    "              'scale' : 1}\n",
    "\n",
    "rank_env = RankingEnv(**env_params)\n",
    "\n",
    "# TODO: integrate eval_slope_low and eval_slope_high into the model"
   ]
  },
  {
   "cell_type": "code",
   "execution_count": 11,
   "metadata": {
    "ExecuteTime": {
     "end_time": "2024-05-12T09:01:58.767999100Z",
     "start_time": "2024-05-12T09:01:58.759498400Z"
    }
   },
   "outputs": [
    {
     "name": "stderr",
     "output_type": "stream",
     "text": [
      "c:\\Users\\Ori Anvar\\anaconda3\\lib\\site-packages\\ipykernel_launcher.py:53: UserWarning: The use of `x.T` on tensors of dimension other than 2 to reverse their shape is deprecated and it will throw an error in a future release. Consider `x.mT` to transpose batches of matrices or `x.permute(*torch.arange(x.ndim - 1, -1, -1))` to reverse the dimensions of a tensor. (Triggered internally at C:\\actions-runner\\_work\\pytorch\\pytorch\\builder\\windows\\pytorch\\aten\\src\\ATen\\native\\TensorShape.cpp:3281.)\n"
     ]
    }
   ],
   "source": [
    "# generate train and test sets\n",
    "X_train, R_train, y_train = rank_env.generate_dataset()\n",
    "X_test, R_test, y_test = rank_env.generate_dataset()"
   ]
  },
  {
   "cell_type": "markdown",
   "metadata": {},
   "source": [
    "### Baseline"
   ]
  },
  {
   "cell_type": "code",
   "execution_count": 12,
   "metadata": {
    "ExecuteTime": {
     "end_time": "2024-05-12T09:19:59.021201200Z",
     "start_time": "2024-05-12T09:02:00.651442900Z"
    }
   },
   "outputs": [
    {
     "name": "stdout",
     "output_type": "stream",
     "text": [
      "now training classical model\n"
     ]
    },
    {
     "name": "stderr",
     "output_type": "stream",
     "text": [
      "c:\\Users\\Ori Anvar\\anaconda3\\lib\\site-packages\\cvxpy\\reductions\\solvers\\solving_chain.py:213: UserWarning: You are solving a parameterized problem that is not DPP. Because the problem is not DPP, subsequent solves will not be faster than the first one. For more information, see the documentation on Discplined Parametrized Programming, at\n",
      "\thttps://www.cvxpy.org/tutorial/advanced/index.html#disciplined-parametrized-programming\n",
      "  warnings.warn(dpp_error_msg)\n"
     ]
    },
    {
     "name": "stdout",
     "output_type": "stream",
     "text": [
      "batch 001 / 001 | loss: 0.07329 | err: 0.19500\n"
     ]
    },
    {
     "ename": "KeyboardInterrupt",
     "evalue": "",
     "output_type": "error",
     "traceback": [
      "\u001b[1;31m---------------------------------------------------------------------------\u001b[0m",
      "\u001b[1;31mKeyboardInterrupt\u001b[0m                         Traceback (most recent call last)",
      "\u001b[1;32m<ipython-input-12-e33c85598644>\u001b[0m in \u001b[0;36m<module>\u001b[1;34m\u001b[0m\n\u001b[0;32m     14\u001b[0m                     \u001b[0mopt\u001b[0m\u001b[1;33m=\u001b[0m\u001b[0mtorch\u001b[0m\u001b[1;33m.\u001b[0m\u001b[0moptim\u001b[0m\u001b[1;33m.\u001b[0m\u001b[0mAdam\u001b[0m\u001b[1;33m,\u001b[0m \u001b[0mopt_kwargs\u001b[0m\u001b[1;33m=\u001b[0m\u001b[1;33m{\u001b[0m\u001b[1;34m\"lr\"\u001b[0m\u001b[1;33m:\u001b[0m \u001b[1;33m(\u001b[0m\u001b[1;36m1e-1\u001b[0m\u001b[1;33m)\u001b[0m\u001b[1;33m}\u001b[0m\u001b[1;33m,\u001b[0m\u001b[1;33m\u001b[0m\u001b[1;33m\u001b[0m\u001b[0m\n\u001b[0;32m     15\u001b[0m                     \u001b[0mepochs\u001b[0m\u001b[1;33m=\u001b[0m\u001b[0mepochs\u001b[0m\u001b[1;33m,\u001b[0m \u001b[0mverbose\u001b[0m\u001b[1;33m=\u001b[0m\u001b[1;32mTrue\u001b[0m\u001b[1;33m,\u001b[0m\u001b[1;33m\u001b[0m\u001b[1;33m\u001b[0m\u001b[0m\n\u001b[1;32m---> 16\u001b[1;33m                    comment=\"batched\")\n\u001b[0m\u001b[0;32m     17\u001b[0m \u001b[1;33m\u001b[0m\u001b[0m\n\u001b[0;32m     18\u001b[0m \u001b[0mprint\u001b[0m\u001b[1;33m(\u001b[0m\u001b[1;34m'now training strategic model'\u001b[0m\u001b[1;33m)\u001b[0m\u001b[1;33m\u001b[0m\u001b[1;33m\u001b[0m\u001b[0m\n",
      "\u001b[1;32m<ipython-input-8-51ced09d29b4>\u001b[0m in \u001b[0;36mfit\u001b[1;34m(self, path, X, R, Xval, Rval, opt, opt_kwargs, epochs, verbose, callback, comment)\u001b[0m\n\u001b[0;32m    212\u001b[0m                     \u001b[1;34m\"precision\"\u001b[0m \u001b[1;33m:\u001b[0m \u001b[0mprecision_score\u001b[0m\u001b[1;33m(\u001b[0m\u001b[0mY\u001b[0m\u001b[1;33m,\u001b[0m \u001b[0mY_pred\u001b[0m\u001b[1;33m)\u001b[0m\u001b[1;33m,\u001b[0m\u001b[1;33m\u001b[0m\u001b[1;33m\u001b[0m\u001b[0m\n\u001b[0;32m    213\u001b[0m                     \u001b[1;34m\"recall\"\u001b[0m \u001b[1;33m:\u001b[0m \u001b[0mrecall_score\u001b[0m\u001b[1;33m(\u001b[0m\u001b[0mY\u001b[0m\u001b[1;33m,\u001b[0m \u001b[0mY_pred\u001b[0m\u001b[1;33m)\u001b[0m\u001b[1;33m,\u001b[0m\u001b[1;33m\u001b[0m\u001b[1;33m\u001b[0m\u001b[0m\n\u001b[1;32m--> 214\u001b[1;33m                     \u001b[1;34m\"burden\"\u001b[0m \u001b[1;33m:\u001b[0m \u001b[0mself\u001b[0m\u001b[1;33m.\u001b[0m\u001b[0mcalc_burden\u001b[0m\u001b[1;33m(\u001b[0m\u001b[0mXbatch\u001b[0m\u001b[1;33m,\u001b[0m \u001b[0mY\u001b[0m\u001b[1;33m)\u001b[0m\u001b[1;33m,\u001b[0m\u001b[1;33m\u001b[0m\u001b[1;33m\u001b[0m\u001b[0m\n\u001b[0m\u001b[0;32m    215\u001b[0m                 })\n\u001b[0;32m    216\u001b[0m                 \u001b[0mval_losses\u001b[0m\u001b[1;33m.\u001b[0m\u001b[0mappend\u001b[0m\u001b[1;33m(\u001b[0m\u001b[0mavg_loss\u001b[0m\u001b[1;33m)\u001b[0m\u001b[1;33m\u001b[0m\u001b[1;33m\u001b[0m\u001b[0m\n",
      "\u001b[1;32m<ipython-input-8-51ced09d29b4>\u001b[0m in \u001b[0;36mcalc_burden\u001b[1;34m(self, X_0, Y)\u001b[0m\n\u001b[0;32m     65\u001b[0m     \u001b[1;32mdef\u001b[0m \u001b[0mcalc_burden\u001b[0m\u001b[1;33m(\u001b[0m\u001b[0mself\u001b[0m\u001b[1;33m,\u001b[0m \u001b[0mX_0\u001b[0m\u001b[1;33m,\u001b[0m \u001b[0mY\u001b[0m\u001b[1;33m)\u001b[0m\u001b[1;33m:\u001b[0m\u001b[1;33m\u001b[0m\u001b[1;33m\u001b[0m\u001b[0m\n\u001b[0;32m     66\u001b[0m         \u001b[1;31m# calculating the burden in a similar fashion to the original paper\u001b[0m\u001b[1;33m\u001b[0m\u001b[1;33m\u001b[0m\u001b[1;33m\u001b[0m\u001b[0m\n\u001b[1;32m---> 67\u001b[1;33m         \u001b[0mX_t\u001b[0m\u001b[1;33m,\u001b[0m \u001b[0m_\u001b[0m \u001b[1;33m=\u001b[0m \u001b[0mself\u001b[0m\u001b[1;33m.\u001b[0m\u001b[0menv\u001b[0m\u001b[1;33m.\u001b[0m\u001b[0mfull_dynamic_update\u001b[0m\u001b[1;33m(\u001b[0m\u001b[0mX_0\u001b[0m\u001b[1;33m,\u001b[0m \u001b[0mself\u001b[0m\u001b[1;33m.\u001b[0m\u001b[0mw\u001b[0m\u001b[1;33m,\u001b[0m \u001b[0mself\u001b[0m\u001b[1;33m.\u001b[0m\u001b[0mb\u001b[0m\u001b[1;33m,\u001b[0m \u001b[0muse_delta\u001b[0m\u001b[1;33m=\u001b[0m\u001b[1;32mFalse\u001b[0m\u001b[1;33m)\u001b[0m\u001b[1;33m\u001b[0m\u001b[1;33m\u001b[0m\u001b[0m\n\u001b[0m\u001b[0;32m     68\u001b[0m         \u001b[1;31m# i.e., only taking those who were supposed to get accepted\u001b[0m\u001b[1;33m\u001b[0m\u001b[1;33m\u001b[0m\u001b[1;33m\u001b[0m\u001b[0m\n\u001b[0;32m     69\u001b[0m         \u001b[0mX_0_pos\u001b[0m \u001b[1;33m=\u001b[0m \u001b[0mX_0\u001b[0m\u001b[1;33m[\u001b[0m\u001b[0mY\u001b[0m\u001b[1;33m==\u001b[0m\u001b[1;36m1\u001b[0m\u001b[1;33m]\u001b[0m\u001b[1;33m\u001b[0m\u001b[1;33m\u001b[0m\u001b[0m\n",
      "\u001b[1;32m<ipython-input-9-69ac6f20dd75>\u001b[0m in \u001b[0;36mfull_dynamic_update\u001b[1;34m(self, X, w, b, use_delta)\u001b[0m\n\u001b[0;32m     94\u001b[0m         \u001b[0mXt\u001b[0m \u001b[1;33m=\u001b[0m \u001b[0mX\u001b[0m\u001b[1;33m\u001b[0m\u001b[1;33m\u001b[0m\u001b[0m\n\u001b[0;32m     95\u001b[0m         \u001b[1;32mfor\u001b[0m \u001b[0m_\u001b[0m \u001b[1;32min\u001b[0m \u001b[0mrange\u001b[0m\u001b[1;33m(\u001b[0m\u001b[0mself\u001b[0m\u001b[1;33m.\u001b[0m\u001b[0mT_max\u001b[0m\u001b[1;33m)\u001b[0m\u001b[1;33m:\u001b[0m\u001b[1;33m\u001b[0m\u001b[1;33m\u001b[0m\u001b[0m\n\u001b[1;32m---> 96\u001b[1;33m             \u001b[0mXt\u001b[0m \u001b[1;33m=\u001b[0m \u001b[0mself\u001b[0m\u001b[1;33m.\u001b[0m\u001b[0muser_features_update\u001b[0m\u001b[1;33m(\u001b[0m\u001b[0mX\u001b[0m\u001b[1;33m,\u001b[0m \u001b[0mXt\u001b[0m\u001b[1;33m,\u001b[0m \u001b[0muse_delta\u001b[0m\u001b[1;33m=\u001b[0m\u001b[0muse_delta\u001b[0m\u001b[1;33m)\u001b[0m\u001b[1;33m\u001b[0m\u001b[1;33m\u001b[0m\u001b[0m\n\u001b[0m\u001b[0;32m     97\u001b[0m         \u001b[1;31m# if delta wasn't used it must be used in the last step\u001b[0m\u001b[1;33m\u001b[0m\u001b[1;33m\u001b[0m\u001b[1;33m\u001b[0m\u001b[0m\n\u001b[0;32m     98\u001b[0m         \u001b[0mX_opt\u001b[0m \u001b[1;33m=\u001b[0m \u001b[0mXt\u001b[0m\u001b[1;33m\u001b[0m\u001b[1;33m\u001b[0m\u001b[0m\n",
      "\u001b[1;32m<ipython-input-9-69ac6f20dd75>\u001b[0m in \u001b[0;36muser_features_update\u001b[1;34m(self, X, Xt, use_delta)\u001b[0m\n\u001b[0;32m     77\u001b[0m         \u001b[0mT_low\u001b[0m\u001b[1;33m,\u001b[0m \u001b[0mT_high\u001b[0m \u001b[1;33m=\u001b[0m \u001b[0mself\u001b[0m\u001b[1;33m.\u001b[0m\u001b[0mget_thresh\u001b[0m\u001b[1;33m(\u001b[0m\u001b[0mXt\u001b[0m\u001b[1;33m)\u001b[0m\u001b[1;33m\u001b[0m\u001b[1;33m\u001b[0m\u001b[0m\n\u001b[0;32m     78\u001b[0m         XT = self.ccp.optimize_X(X, self.w, self.b, self.slope_low, self.slope_high, T_low,\n\u001b[1;32m---> 79\u001b[1;33m                                  T_high, self.acp_reward)\n\u001b[0m\u001b[0;32m     80\u001b[0m         \u001b[1;32mif\u001b[0m \u001b[0muse_delta\u001b[0m\u001b[1;33m:\u001b[0m\u001b[1;33m\u001b[0m\u001b[1;33m\u001b[0m\u001b[0m\n\u001b[0;32m     81\u001b[0m             \u001b[0mF_DER\u001b[0m \u001b[1;33m=\u001b[0m \u001b[0mself\u001b[0m\u001b[1;33m.\u001b[0m\u001b[0mget_f_ders\u001b[0m\u001b[1;33m(\u001b[0m\u001b[0mXT\u001b[0m\u001b[1;33m,\u001b[0m \u001b[0mself\u001b[0m\u001b[1;33m.\u001b[0m\u001b[0mslope_low\u001b[0m\u001b[1;33m,\u001b[0m \u001b[0mself\u001b[0m\u001b[1;33m.\u001b[0m\u001b[0mslope_high\u001b[0m\u001b[1;33m,\u001b[0m \u001b[0mT_low\u001b[0m\u001b[1;33m,\u001b[0m \u001b[0mT_high\u001b[0m\u001b[1;33m)\u001b[0m\u001b[1;33m\u001b[0m\u001b[1;33m\u001b[0m\u001b[0m\n",
      "\u001b[1;32m<ipython-input-5-46720905076e>\u001b[0m in \u001b[0;36moptimize_X\u001b[1;34m(self, X, w, b, slope_low, slope_high, T_low, T_high, acp_reward)\u001b[0m\n\u001b[0;32m     79\u001b[0m \u001b[1;33m\u001b[0m\u001b[0m\n\u001b[0;32m     80\u001b[0m         \u001b[1;31m# for batch usage\u001b[0m\u001b[1;33m\u001b[0m\u001b[1;33m\u001b[0m\u001b[1;33m\u001b[0m\u001b[0m\n\u001b[1;32m---> 81\u001b[1;33m         \u001b[1;32mreturn\u001b[0m \u001b[0mtorch\u001b[0m\u001b[1;33m.\u001b[0m\u001b[0mfrom_numpy\u001b[0m\u001b[1;33m(\u001b[0m\u001b[0mself\u001b[0m\u001b[1;33m.\u001b[0m\u001b[0mccp\u001b[0m\u001b[1;33m(\u001b[0m\u001b[0mX\u001b[0m\u001b[1;33m)\u001b[0m\u001b[1;33m)\u001b[0m\u001b[1;33m\u001b[0m\u001b[1;33m\u001b[0m\u001b[0m\n\u001b[0m",
      "\u001b[1;32m<ipython-input-5-46720905076e>\u001b[0m in \u001b[0;36mccp\u001b[1;34m(self, r)\u001b[0m\n\u001b[0;32m     44\u001b[0m             \u001b[0mcnt\u001b[0m \u001b[1;33m+=\u001b[0m \u001b[1;36m1\u001b[0m\u001b[1;33m\u001b[0m\u001b[1;33m\u001b[0m\u001b[0m\n\u001b[0;32m     45\u001b[0m             \u001b[0mself\u001b[0m\u001b[1;33m.\u001b[0m\u001b[0mxt\u001b[0m\u001b[1;33m.\u001b[0m\u001b[0mvalue\u001b[0m \u001b[1;33m=\u001b[0m \u001b[0mself\u001b[0m\u001b[1;33m.\u001b[0m\u001b[0mx\u001b[0m\u001b[1;33m.\u001b[0m\u001b[0mvalue\u001b[0m\u001b[1;33m\u001b[0m\u001b[1;33m\u001b[0m\u001b[0m\n\u001b[1;32m---> 46\u001b[1;33m             \u001b[0mresult\u001b[0m \u001b[1;33m=\u001b[0m \u001b[0mself\u001b[0m\u001b[1;33m.\u001b[0m\u001b[0mprob\u001b[0m\u001b[1;33m.\u001b[0m\u001b[0msolve\u001b[0m\u001b[1;33m(\u001b[0m\u001b[1;33m)\u001b[0m\u001b[1;33m\u001b[0m\u001b[1;33m\u001b[0m\u001b[0m\n\u001b[0m\u001b[0;32m     47\u001b[0m             \u001b[0mdiff\u001b[0m \u001b[1;33m=\u001b[0m \u001b[0mnp\u001b[0m\u001b[1;33m.\u001b[0m\u001b[0mlinalg\u001b[0m\u001b[1;33m.\u001b[0m\u001b[0mnorm\u001b[0m\u001b[1;33m(\u001b[0m\u001b[0mself\u001b[0m\u001b[1;33m.\u001b[0m\u001b[0mx\u001b[0m\u001b[1;33m.\u001b[0m\u001b[0mvalue\u001b[0m \u001b[1;33m-\u001b[0m \u001b[0mself\u001b[0m\u001b[1;33m.\u001b[0m\u001b[0mxt\u001b[0m\u001b[1;33m.\u001b[0m\u001b[0mvalue\u001b[0m\u001b[1;33m)\u001b[0m\u001b[1;33m/\u001b[0m\u001b[0mself\u001b[0m\u001b[1;33m.\u001b[0m\u001b[0mbatch_size\u001b[0m\u001b[1;33m\u001b[0m\u001b[1;33m\u001b[0m\u001b[0m\n\u001b[0;32m     48\u001b[0m         \u001b[1;32mreturn\u001b[0m \u001b[0mself\u001b[0m\u001b[1;33m.\u001b[0m\u001b[0mx\u001b[0m\u001b[1;33m.\u001b[0m\u001b[0mvalue\u001b[0m\u001b[1;33m\u001b[0m\u001b[1;33m\u001b[0m\u001b[0m\n",
      "\u001b[1;32mc:\\Users\\Ori Anvar\\anaconda3\\lib\\site-packages\\cvxpy\\problems\\problem.py\u001b[0m in \u001b[0;36msolve\u001b[1;34m(self, *args, **kwargs)\u001b[0m\n\u001b[0;32m    493\u001b[0m         \u001b[1;32melse\u001b[0m\u001b[1;33m:\u001b[0m\u001b[1;33m\u001b[0m\u001b[1;33m\u001b[0m\u001b[0m\n\u001b[0;32m    494\u001b[0m             \u001b[0msolve_func\u001b[0m \u001b[1;33m=\u001b[0m \u001b[0mProblem\u001b[0m\u001b[1;33m.\u001b[0m\u001b[0m_solve\u001b[0m\u001b[1;33m\u001b[0m\u001b[1;33m\u001b[0m\u001b[0m\n\u001b[1;32m--> 495\u001b[1;33m         \u001b[1;32mreturn\u001b[0m \u001b[0msolve_func\u001b[0m\u001b[1;33m(\u001b[0m\u001b[0mself\u001b[0m\u001b[1;33m,\u001b[0m \u001b[1;33m*\u001b[0m\u001b[0margs\u001b[0m\u001b[1;33m,\u001b[0m \u001b[1;33m**\u001b[0m\u001b[0mkwargs\u001b[0m\u001b[1;33m)\u001b[0m\u001b[1;33m\u001b[0m\u001b[1;33m\u001b[0m\u001b[0m\n\u001b[0m\u001b[0;32m    496\u001b[0m \u001b[1;33m\u001b[0m\u001b[0m\n\u001b[0;32m    497\u001b[0m     \u001b[1;33m@\u001b[0m\u001b[0mclassmethod\u001b[0m\u001b[1;33m\u001b[0m\u001b[1;33m\u001b[0m\u001b[0m\n",
      "\u001b[1;32mc:\\Users\\Ori Anvar\\anaconda3\\lib\\site-packages\\cvxpy\\problems\\problem.py\u001b[0m in \u001b[0;36m_solve\u001b[1;34m(self, solver, warm_start, verbose, gp, qcp, requires_grad, enforce_dpp, ignore_dpp, canon_backend, **kwargs)\u001b[0m\n\u001b[0;32m   1065\u001b[0m         \u001b[0mstart\u001b[0m \u001b[1;33m=\u001b[0m \u001b[0mtime\u001b[0m\u001b[1;33m.\u001b[0m\u001b[0mtime\u001b[0m\u001b[1;33m(\u001b[0m\u001b[1;33m)\u001b[0m\u001b[1;33m\u001b[0m\u001b[1;33m\u001b[0m\u001b[0m\n\u001b[0;32m   1066\u001b[0m         solution = solving_chain.solve_via_data(\n\u001b[1;32m-> 1067\u001b[1;33m             self, data, warm_start, verbose, kwargs)\n\u001b[0m\u001b[0;32m   1068\u001b[0m         \u001b[0mend\u001b[0m \u001b[1;33m=\u001b[0m \u001b[0mtime\u001b[0m\u001b[1;33m.\u001b[0m\u001b[0mtime\u001b[0m\u001b[1;33m(\u001b[0m\u001b[1;33m)\u001b[0m\u001b[1;33m\u001b[0m\u001b[1;33m\u001b[0m\u001b[0m\n\u001b[0;32m   1069\u001b[0m         \u001b[0mself\u001b[0m\u001b[1;33m.\u001b[0m\u001b[0m_solve_time\u001b[0m \u001b[1;33m=\u001b[0m \u001b[0mend\u001b[0m \u001b[1;33m-\u001b[0m \u001b[0mstart\u001b[0m\u001b[1;33m\u001b[0m\u001b[1;33m\u001b[0m\u001b[0m\n",
      "\u001b[1;32mc:\\Users\\Ori Anvar\\anaconda3\\lib\\site-packages\\cvxpy\\reductions\\solvers\\solving_chain.py\u001b[0m in \u001b[0;36msolve_via_data\u001b[1;34m(self, problem, data, warm_start, verbose, solver_opts)\u001b[0m\n\u001b[0;32m    422\u001b[0m         \"\"\"\n\u001b[0;32m    423\u001b[0m         return self.solver.solve_via_data(data, warm_start, verbose,\n\u001b[1;32m--> 424\u001b[1;33m                                           solver_opts, problem._solver_cache)\n\u001b[0m",
      "\u001b[1;32mc:\\Users\\Ori Anvar\\anaconda3\\lib\\site-packages\\cvxpy\\reductions\\solvers\\conic_solvers\\ecos_conif.py\u001b[0m in \u001b[0;36msolve_via_data\u001b[1;34m(self, data, warm_start, verbose, solver_opts, solver_cache)\u001b[0m\n\u001b[0;32m    138\u001b[0m                               \u001b[0mcones\u001b[0m\u001b[1;33m,\u001b[0m \u001b[0mdata\u001b[0m\u001b[1;33m[\u001b[0m\u001b[0ms\u001b[0m\u001b[1;33m.\u001b[0m\u001b[0mA\u001b[0m\u001b[1;33m]\u001b[0m\u001b[1;33m,\u001b[0m \u001b[0mdata\u001b[0m\u001b[1;33m[\u001b[0m\u001b[0ms\u001b[0m\u001b[1;33m.\u001b[0m\u001b[0mB\u001b[0m\u001b[1;33m]\u001b[0m\u001b[1;33m,\u001b[0m\u001b[1;33m\u001b[0m\u001b[1;33m\u001b[0m\u001b[0m\n\u001b[0;32m    139\u001b[0m                               \u001b[0mverbose\u001b[0m\u001b[1;33m=\u001b[0m\u001b[0mverbose\u001b[0m\u001b[1;33m,\u001b[0m\u001b[1;33m\u001b[0m\u001b[1;33m\u001b[0m\u001b[0m\n\u001b[1;32m--> 140\u001b[1;33m                               **solver_opts)\n\u001b[0m\u001b[0;32m    141\u001b[0m         \u001b[1;32mreturn\u001b[0m \u001b[0msolution\u001b[0m\u001b[1;33m\u001b[0m\u001b[1;33m\u001b[0m\u001b[0m\n\u001b[0;32m    142\u001b[0m \u001b[1;33m\u001b[0m\u001b[0m\n",
      "\u001b[1;32mc:\\Users\\Ori Anvar\\anaconda3\\lib\\site-packages\\ecos\\ecos.py\u001b[0m in \u001b[0;36msolve\u001b[1;34m(c, G, h, dims, A, b, **kwargs)\u001b[0m\n\u001b[0;32m     58\u001b[0m \u001b[1;33m\u001b[0m\u001b[0m\n\u001b[0;32m     59\u001b[0m     \u001b[1;32mif\u001b[0m \u001b[0mA\u001b[0m \u001b[1;32mis\u001b[0m \u001b[1;32mNone\u001b[0m\u001b[1;33m:\u001b[0m\u001b[1;33m\u001b[0m\u001b[1;33m\u001b[0m\u001b[0m\n\u001b[1;32m---> 60\u001b[1;33m         \u001b[1;32mreturn\u001b[0m \u001b[0m_ecos\u001b[0m\u001b[1;33m.\u001b[0m\u001b[0mcsolve\u001b[0m\u001b[1;33m(\u001b[0m\u001b[1;33m(\u001b[0m\u001b[0mm\u001b[0m\u001b[1;33m,\u001b[0m\u001b[0mn1\u001b[0m\u001b[1;33m,\u001b[0m\u001b[0mp\u001b[0m\u001b[1;33m)\u001b[0m\u001b[1;33m,\u001b[0m \u001b[0mc\u001b[0m\u001b[1;33m,\u001b[0m \u001b[0mdata\u001b[0m\u001b[1;33m,\u001b[0m \u001b[0mindices\u001b[0m\u001b[1;33m,\u001b[0m \u001b[0mcolptr\u001b[0m\u001b[1;33m,\u001b[0m \u001b[0mh\u001b[0m\u001b[1;33m,\u001b[0m \u001b[0mdims\u001b[0m\u001b[1;33m,\u001b[0m \u001b[1;33m**\u001b[0m\u001b[0mkwargs\u001b[0m\u001b[1;33m)\u001b[0m\u001b[1;33m\u001b[0m\u001b[1;33m\u001b[0m\u001b[0m\n\u001b[0m\u001b[0;32m     61\u001b[0m     \u001b[1;32melse\u001b[0m\u001b[1;33m:\u001b[0m\u001b[1;33m\u001b[0m\u001b[1;33m\u001b[0m\u001b[0m\n\u001b[0;32m     62\u001b[0m         \u001b[1;32mreturn\u001b[0m \u001b[0m_ecos\u001b[0m\u001b[1;33m.\u001b[0m\u001b[0mcsolve\u001b[0m\u001b[1;33m(\u001b[0m\u001b[1;33m(\u001b[0m\u001b[0mm\u001b[0m\u001b[1;33m,\u001b[0m\u001b[0mn1\u001b[0m\u001b[1;33m,\u001b[0m\u001b[0mp\u001b[0m\u001b[1;33m)\u001b[0m\u001b[1;33m,\u001b[0m \u001b[0mc\u001b[0m\u001b[1;33m,\u001b[0m \u001b[0mdata\u001b[0m\u001b[1;33m,\u001b[0m \u001b[0mindices\u001b[0m\u001b[1;33m,\u001b[0m \u001b[0mcolptr\u001b[0m\u001b[1;33m,\u001b[0m \u001b[0mh\u001b[0m\u001b[1;33m,\u001b[0m \u001b[0mdims\u001b[0m\u001b[1;33m,\u001b[0m \u001b[0mA\u001b[0m\u001b[1;33m.\u001b[0m\u001b[0mdata\u001b[0m\u001b[1;33m,\u001b[0m \u001b[0mA\u001b[0m\u001b[1;33m.\u001b[0m\u001b[0mindices\u001b[0m\u001b[1;33m,\u001b[0m \u001b[0mA\u001b[0m\u001b[1;33m.\u001b[0m\u001b[0mindptr\u001b[0m\u001b[1;33m,\u001b[0m \u001b[0mb\u001b[0m\u001b[1;33m,\u001b[0m \u001b[1;33m**\u001b[0m\u001b[0mkwargs\u001b[0m\u001b[1;33m)\u001b[0m\u001b[1;33m\u001b[0m\u001b[1;33m\u001b[0m\u001b[0m\n",
      "\u001b[1;31mKeyboardInterrupt\u001b[0m: "
     ]
    }
   ],
   "source": [
    "# define models \n",
    "model_classic = MyStrategicModel(batch_size=env_params['n_users'], env=rank_env, strategic=False)\n",
    "model_strategic = MyStrategicModel(batch_size=env_params['n_users'], env=rank_env, strategic=True)\n",
    "\n",
    "path_strategic = \"./tests/baseline/strategic\"\n",
    "path_classical = \"./tests/baseline/classical\"\n",
    "epochs = 10\n",
    "batch_size = env_params['n_users']\n",
    "total = []\n",
    "ccp = []\n",
    "\n",
    "print('now training classical model')\n",
    "classic_train_metrics, classic_test_metrics = model_classic.fit(path_classical, X_train, R_train, X_test, R_test,\n",
    "                    opt=torch.optim.Adam, opt_kwargs={\"lr\": (1e-1)},\n",
    "                    epochs=epochs, verbose=True,\n",
    "                   comment=\"batched\")\n",
    "\n",
    "print('now training strategic model')\n",
    "strategic_train_metrics, strategic_test_metrics = model_strategic.fit(path_strategic, X_train, R_train, X_test, R_test,\n",
    "                    opt=torch.optim.Adam, opt_kwargs={\"lr\": (1e-1)},\n",
    "                    epochs=epochs, verbose=True,\n",
    "                   comment=\"batched\")\n",
    "\n",
    "total_time = model_strategic.total_time\n",
    "ccp_time = model_strategic.ccp_time\n",
    "total.append(total_time)\n",
    "ccp.append(ccp_time)\n",
    "\n",
    "# saving baseline\n",
    "pd.DataFrame(np.array(total)).to_csv(path_strategic + '/total_timing_results.csv')\n",
    "pd.DataFrame(np.array(ccp)).to_csv(path_strategic + '/ccp_timing_results.csv')\n",
    "pd.DataFrame(classic_train_metrics).to_csv(path_classical + '/train_metrics.csv')\n",
    "pd.DataFrame(classic_test_metrics).to_csv(path_classical + '/test_metrics.csv')\n",
    "pd.DataFrame(strategic_train_metrics).to_csv(path_strategic + '/train_metrics.csv')\n",
    "pd.DataFrame(strategic_test_metrics).to_csv(path_strategic + '/test_metrics.csv')"
   ]
  },
  {
   "cell_type": "markdown",
   "metadata": {
    "collapsed": false
   },
   "source": [
    "## Further Questions\n",
    "\n",
    "1. Goals:\n",
    "    - Develop a system capable of coping with contest behavior🦚\n",
    "    - Deploy system on toy example with synthetic data🦚\n",
    "    - Adding batch option in order to train well on small datasets (instead of training on a subset of users from 1 experiment, do multiple experiments on small amounts of users)🦚\n",
    "    - Adding Naive non-strategic model as a baseline to see how it copes with strategic data. run 2D and generate plots for comparison\n",
    "    - Change contest parameters and study effect on precision and burden (slopes, k, k', acp_rate)\n"
   ]
  },
  {
   "cell_type": "markdown",
   "metadata": {},
   "source": [
    "## Experiments"
   ]
  },
  {
   "cell_type": "markdown",
   "metadata": {
    "collapsed": false
   },
   "source": [
    "### 2D Experiments\n",
    "\n",
    "Running simple experiment in 2D to understand the user behavior better."
   ]
  },
  {
   "cell_type": "code",
   "execution_count": 38,
   "metadata": {
    "ExecuteTime": {
     "end_time": "2024-05-19T10:04:49.746017100Z",
     "start_time": "2024-05-19T10:04:07.715373800Z"
    },
    "collapsed": false
   },
   "outputs": [
    {
     "name": "stderr",
     "output_type": "stream",
     "text": [
      "c:\\Users\\Ori Anvar\\anaconda3\\lib\\site-packages\\cvxpy\\reductions\\solvers\\solving_chain.py:213: UserWarning: You are solving a parameterized problem that is not DPP. Because the problem is not DPP, subsequent solves will not be faster than the first one. For more information, see the documentation on Discplined Parametrized Programming, at\n",
      "\thttps://www.cvxpy.org/tutorial/advanced/index.html#disciplined-parametrized-programming\n",
      "  warnings.warn(dpp_error_msg)\n"
     ]
    },
    {
     "name": "stdout",
     "output_type": "stream",
     "text": [
      "batch 001 / 005 | loss: 0.01841 | err: 0.80000\n",
      "batch 002 / 005 | loss: 0.01352 | err: 0.80000\n",
      "batch 003 / 005 | loss: 0.01127 | err: 0.80000\n",
      "batch 004 / 005 | loss: 0.01060 | err: 0.80000\n",
      "batch 005 / 005 | loss: 0.01032 | err: 0.80000\n",
      "model saved!\n",
      "------------- epoch 001 / 010 | time: 031 sec | loss: 0.00726 | err: 0.78000\n",
      "batch 001 / 005 | loss: 0.00884 | err: 0.78000\n",
      "batch 002 / 005 | loss: 0.00777 | err: 0.79000\n",
      "batch 003 / 005 | loss: 0.00668 | err: 0.78667\n",
      "batch 004 / 005 | loss: 0.00571 | err: 0.76500\n",
      "batch 005 / 005 | loss: 0.00513 | err: 0.77200\n",
      "model saved!\n",
      "------------- epoch 002 / 010 | time: 034 sec | loss: 0.00252 | err: 0.62000\n",
      "batch 001 / 005 | loss: 0.00297 | err: 0.64000\n",
      "batch 002 / 005 | loss: 0.00328 | err: 0.61000\n",
      "batch 003 / 005 | loss: 0.00332 | err: 0.61333\n",
      "batch 004 / 005 | loss: 0.00328 | err: 0.58500\n",
      "batch 005 / 005 | loss: 0.00296 | err: 0.58000\n",
      "model saved!\n",
      "------------- epoch 003 / 010 | time: 032 sec | loss: 0.00124 | err: 0.40000\n",
      "batch 001 / 005 | loss: 0.00141 | err: 0.46000\n",
      "batch 002 / 005 | loss: 0.00110 | err: 0.41000\n",
      "batch 003 / 005 | loss: 0.00097 | err: 0.40000\n",
      "batch 004 / 005 | loss: 0.00084 | err: 0.34500\n",
      "batch 005 / 005 | loss: 0.00085 | err: 0.30400\n",
      "model saved!\n",
      "------------- epoch 004 / 010 | time: 030 sec | loss: 0.00083 | err: 0.22000\n",
      "batch 001 / 005 | loss: 0.00068 | err: 0.26000\n",
      "batch 002 / 005 | loss: 0.00073 | err: 0.17000\n",
      "batch 003 / 005 | loss: 0.00068 | err: 0.16000\n",
      "batch 004 / 005 | loss: 0.00055 | err: 0.14500\n",
      "batch 005 / 005 | loss: 0.00045 | err: 0.12000\n",
      "model saved!\n",
      "------------- epoch 005 / 010 | time: 026 sec | loss: 0.00007 | err: 0.08000\n",
      "batch 001 / 005 | loss: 0.00006 | err: 0.00000\n",
      "batch 002 / 005 | loss: 0.00011 | err: 0.02000\n",
      "batch 003 / 005 | loss: 0.00016 | err: 0.02000\n",
      "batch 004 / 005 | loss: 0.00021 | err: 0.02000\n",
      "batch 005 / 005 | loss: 0.00023 | err: 0.02400\n",
      "model saved!\n",
      "------------- epoch 006 / 010 | time: 027 sec | loss: 0.00034 | err: 0.06000\n",
      "batch 001 / 005 | loss: 0.00021 | err: 0.02000\n",
      "batch 002 / 005 | loss: 0.00017 | err: 0.04000\n",
      "batch 003 / 005 | loss: 0.00014 | err: 0.04667\n",
      "batch 004 / 005 | loss: 0.00014 | err: 0.05000\n",
      "batch 005 / 005 | loss: 0.00016 | err: 0.06400\n",
      "model saved!\n",
      "------------- epoch 007 / 010 | time: 035 sec | loss: 0.00018 | err: 0.10000\n",
      "batch 001 / 005 | loss: 0.00022 | err: 0.08000\n",
      "batch 002 / 005 | loss: 0.00027 | err: 0.09000\n",
      "batch 003 / 005 | loss: 0.00029 | err: 0.08667\n",
      "batch 004 / 005 | loss: 0.00027 | err: 0.09500\n",
      "batch 005 / 005 | loss: 0.00025 | err: 0.08400\n",
      "model saved!\n",
      "------------- epoch 008 / 010 | time: 028 sec | loss: 0.00018 | err: 0.10000\n",
      "batch 001 / 005 | loss: 0.00012 | err: 0.08000\n",
      "batch 002 / 005 | loss: 0.00016 | err: 0.10000\n",
      "batch 003 / 005 | loss: 0.00016 | err: 0.09333\n",
      "batch 004 / 005 | loss: 0.00019 | err: 0.08500\n",
      "batch 005 / 005 | loss: 0.00018 | err: 0.07600\n",
      "model saved!\n",
      "------------- epoch 009 / 010 | time: 029 sec | loss: 0.00017 | err: 0.08000\n",
      "batch 001 / 005 | loss: 0.00009 | err: 0.06000\n",
      "batch 002 / 005 | loss: 0.00007 | err: 0.06000\n",
      "batch 003 / 005 | loss: 0.00006 | err: 0.04667\n",
      "batch 004 / 005 | loss: 0.00006 | err: 0.04500\n",
      "batch 005 / 005 | loss: 0.00006 | err: 0.04800\n",
      "model saved!\n",
      "------------- epoch 010 / 010 | time: 043 sec | loss: 0.00003 | err: 0.04000\n",
      "training time: 318.9022533893585 seconds\n"
     ]
    }
   ],
   "source": [
    "slope_val = 0.1\n",
    "\n",
    "# training with different slopes\n",
    "env_params = {'noisyscale' : 0.001,\n",
    "            'n_features' : 2,\n",
    "            'k' : 40,\n",
    "            'k_tag' : 40,\n",
    "            'n_users': 100,\n",
    "            'slope_low' : slope_val,\n",
    "            'slope_high' : slope_val,\n",
    "            'acp_reward' : 0.6,\n",
    "            'funcs' : funcs,\n",
    "            'funcs_batch' : funcs_batch,\n",
    "            'scale' : 0.5,\n",
    "            'n_batch' : 5}\n",
    "\n",
    "rank_env = RankingEnv(**env_params)\n",
    "model = MyStrategicModel(batch_size=env_params['n_users'], env=rank_env, strategic=True)\n",
    "\n",
    "# generate train and test sets\n",
    "X_train, R_train, y_train = rank_env.generate_dataset(is_test=False)\n",
    "X_test, R_test, y_test = rank_env.generate_dataset(is_test=True)\n",
    "\n",
    "slope_str = str(slope_val).replace('.', ',')\n",
    "path_strategic = f\"./tests/2d_test/strategic\"\n",
    "epochs = 10\n",
    "batch_size = env_params['n_users']\n",
    "total = []\n",
    "ccp = []\n",
    "\n",
    "# learning rate is crucial for the success of the model. DO NOT TOUCH!!!!\n",
    "strategic_train_metrics, strategic_test_metrics = model.fit(path_strategic, X_train, R_train, X_test, R_test,\n",
    "                    opt=torch.optim.Adam, opt_kwargs={\"lr\": (5e-2)},\n",
    "                    epochs=epochs, verbose=True,\n",
    "                comment=\"batched\")\n",
    "\n",
    "# convert to pd DataFrame\n",
    "strategic_train_metrics = pd.DataFrame(strategic_train_metrics)\n",
    "strategic_test_metrics = pd.DataFrame(strategic_test_metrics)"
   ]
  },
  {
   "cell_type": "code",
   "execution_count": 39,
   "metadata": {
    "ExecuteTime": {
     "end_time": "2024-05-19T10:03:09.969711Z",
     "start_time": "2024-05-19T10:03:09.943224500Z"
    },
    "collapsed": false
   },
   "outputs": [],
   "source": [
    "def get_perp_line(w, b, rank_env, X_T):\n",
    "    x1 = np.linspace(-0.2, 0.3, 100)\n",
    "    w0 = w[0].detach().numpy()\n",
    "    w1 = w[1].detach().numpy()\n",
    "    b_d = b.detach().numpy()\n",
    "    T_low, _ = rank_env.get_thresh(X_T)\n",
    "    x2 = (-w0*x1 + T_low.detach().numpy() - b_d)/w1\n",
    "    return x1, x2\n"
   ]
  },
  {
   "cell_type": "code",
   "execution_count": 40,
   "metadata": {
    "ExecuteTime": {
     "end_time": "2024-05-19T10:07:54.884537Z",
     "start_time": "2024-05-19T10:07:54.255743300Z"
    },
    "collapsed": false
   },
   "outputs": [],
   "source": [
    "# A function for plotting users before and after delta for the test set\n",
    "def our_scatter(rank_env, model, X):\n",
    "    X = X.squeeze()\n",
    "    w, b = model.get_wb()\n",
    "    X_T, _ = rank_env.full_dynamic_update(X, w, b)\n",
    "    point_size = 30\n",
    "    fig, ax = plt.subplots(1, 1, figsize=(6, 6))\n",
    "\n",
    "    # plotting scatter plots of test set\n",
    "    ax.scatter(X[:, 0], X[:, 1], marker='o', s=point_size, color='b', label='Initial Features')\n",
    "    ax.scatter(X_T[:, 0], X_T[:, 1], marker='o', s=point_size, color='r', label='Final Features')\n",
    "    # Calculate the differences\n",
    "    U = X_T[:, 0] - X[:, 0]\n",
    "    V = X_T[:, 1] - X[:, 1]\n",
    "    ax.quiver(X[:, 0].mean(), X[:, 1].mean(), 2*U.mean(), 2*V.mean(), angles='xy', scale_units='xy', scale=0.1, color='k', label='Average Direction')\n",
    "    ax.quiver(X[:, 0], X[:, 1], U, V, angles='xy', scale_units='xy', scale=1, color='gray')\n",
    "    # adding threshold lines\n",
    "    x1, x2 = get_perp_line(w, b, rank_env, X_T)\n",
    "    ax.plot(x1, x2, linestyle='dashed', label='model decision')\n",
    "    x1, x2 = get_perp_line(rank_env.system_attributes, torch.Tensor([0]), rank_env, X_T)\n",
    "    ax.plot(x1, x2, linestyle='dashed', label='ground truth decision')\n",
    "    ax.legend()\n",
    "    ax.set_xlabel('feature 1')\n",
    "    ax.set_ylabel('feature 2')\n",
    "    precision = strategic_test_metrics[strategic_test_metrics['epoch num'] == 9]['precision'].values[0]\n",
    "    ax.set_title(f'Test Set, Precision = {precision}')"
   ]
  },
  {
   "cell_type": "code",
   "execution_count": 41,
   "metadata": {},
   "outputs": [
    {
     "data": {
      "image/png": "[encoded data removed]",
      "text/plain": [
       "<Figure size 432x432 with 1 Axes>"
      ]
     },
     "metadata": {
      "needs_background": "light"
     },
     "output_type": "display_data"
    }
   ],
   "source": [
    "# plotting for the test batch\n",
    "our_scatter(rank_env, model, X_test)"
   ]
  },
  {
   "cell_type": "markdown",
   "metadata": {},
   "source": [
    "### Experiment 1: Accuracy for different slopes"
   ]
  },
  {
   "cell_type": "markdown",
   "metadata": {},
   "source": [
    "**Part 1:** in 2D."
   ]
  },
  {
   "cell_type": "code",
   "execution_count": 42,
   "metadata": {
    "collapsed": false
   },
   "outputs": [
    {
     "name": "stdout",
     "output_type": "stream",
     "text": [
      "now training strategic model\n"
     ]
    },
    {
     "name": "stderr",
     "output_type": "stream",
     "text": [
      "c:\\Users\\Ori Anvar\\anaconda3\\lib\\site-packages\\cvxpy\\reductions\\solvers\\solving_chain.py:213: UserWarning: You are solving a parameterized problem that is not DPP. Because the problem is not DPP, subsequent solves will not be faster than the first one. For more information, see the documentation on Discplined Parametrized Programming, at\n",
      "\thttps://www.cvxpy.org/tutorial/advanced/index.html#disciplined-parametrized-programming\n",
      "  warnings.warn(dpp_error_msg)\n"
     ]
    },
    {
     "name": "stdout",
     "output_type": "stream",
     "text": [
      "batch 001 / 001 | loss: 0.06390 | err: 0.26000\n",
      "model saved!\n",
      "------------- epoch 001 / 010 | time: 019 sec | loss: 0.02030 | err: 0.16000\n",
      "batch 001 / 001 | loss: 0.02258 | err: 0.23000\n",
      "model saved!\n",
      "------------- epoch 002 / 010 | time: 017 sec | loss: 0.00565 | err: 0.13000\n",
      "batch 001 / 001 | loss: 0.00580 | err: 0.21000\n",
      "model saved!\n",
      "------------- epoch 003 / 010 | time: 014 sec | loss: 0.01014 | err: 0.11000\n",
      "batch 001 / 001 | loss: 0.00826 | err: 0.19000\n",
      "model saved!\n",
      "------------- epoch 004 / 010 | time: 015 sec | loss: 0.01899 | err: 0.10000\n",
      "batch 001 / 001 | loss: 0.01624 | err: 0.16000\n",
      "model saved!\n",
      "------------- epoch 005 / 010 | time: 016 sec | loss: 0.02178 | err: 0.09000\n",
      "batch 001 / 001 | loss: 0.01930 | err: 0.15000\n",
      "model saved!\n",
      "------------- epoch 006 / 010 | time: 016 sec | loss: 0.01793 | err: 0.10000\n",
      "batch 001 / 001 | loss: 0.01615 | err: 0.13000\n",
      "model saved!\n",
      "------------- epoch 007 / 010 | time: 017 sec | loss: 0.01121 | err: 0.11000\n",
      "batch 001 / 001 | loss: 0.01009 | err: 0.16000\n",
      "model saved!\n",
      "------------- epoch 008 / 010 | time: 015 sec | loss: 0.00513 | err: 0.17000\n",
      "batch 001 / 001 | loss: 0.00447 | err: 0.18000\n",
      "model saved!\n",
      "------------- epoch 009 / 010 | time: 016 sec | loss: 0.00162 | err: 0.21000\n",
      "batch 001 / 001 | loss: 0.00129 | err: 0.20000\n",
      "model saved!\n",
      "------------- epoch 010 / 010 | time: 015 sec | loss: 0.00099 | err: 0.23000\n",
      "training time: 164.31336331367493 seconds\n",
      "now training strategic model\n"
     ]
    },
    {
     "name": "stderr",
     "output_type": "stream",
     "text": [
      "c:\\Users\\Ori Anvar\\anaconda3\\lib\\site-packages\\cvxpy\\reductions\\solvers\\solving_chain.py:213: UserWarning: You are solving a parameterized problem that is not DPP. Because the problem is not DPP, subsequent solves will not be faster than the first one. For more information, see the documentation on Discplined Parametrized Programming, at\n",
      "\thttps://www.cvxpy.org/tutorial/advanced/index.html#disciplined-parametrized-programming\n",
      "  warnings.warn(dpp_error_msg)\n"
     ]
    },
    {
     "name": "stdout",
     "output_type": "stream",
     "text": [
      "batch 001 / 001 | loss: 0.02031 | err: 0.37000\n",
      "model saved!\n",
      "------------- epoch 001 / 010 | time: 018 sec | loss: 0.04520 | err: 0.38000\n",
      "batch 001 / 001 | loss: 0.01544 | err: 0.37000\n",
      "model saved!\n",
      "------------- epoch 002 / 010 | time: 019 sec | loss: 0.03772 | err: 0.38000\n",
      "batch 001 / 001 | loss: 0.01336 | err: 0.37000\n",
      "model saved!\n",
      "------------- epoch 003 / 010 | time: 031 sec | loss: 0.01346 | err: 0.38000\n",
      "batch 001 / 001 | loss: 0.00646 | err: 0.36000\n",
      "model saved!\n",
      "------------- epoch 004 / 010 | time: 023 sec | loss: 0.00524 | err: 0.38000\n",
      "batch 001 / 001 | loss: 0.00728 | err: 0.36000\n",
      "model saved!\n",
      "------------- epoch 005 / 010 | time: 021 sec | loss: 0.00454 | err: 0.38000\n",
      "batch 001 / 001 | loss: 0.00835 | err: 0.35000\n",
      "model saved!\n",
      "------------- epoch 006 / 010 | time: 024 sec | loss: 0.00424 | err: 0.38000\n",
      "batch 001 / 001 | loss: 0.00621 | err: 0.34000\n",
      "model saved!\n",
      "------------- epoch 007 / 010 | time: 022 sec | loss: 0.00651 | err: 0.37000\n",
      "batch 001 / 001 | loss: 0.00424 | err: 0.33000\n",
      "model saved!\n",
      "------------- epoch 008 / 010 | time: 023 sec | loss: 0.01258 | err: 0.37000\n",
      "batch 001 / 001 | loss: 0.00516 | err: 0.33000\n",
      "model saved!\n",
      "------------- epoch 009 / 010 | time: 025 sec | loss: 0.01523 | err: 0.37000\n",
      "batch 001 / 001 | loss: 0.00608 | err: 0.33000\n",
      "model saved!\n",
      "------------- epoch 010 / 010 | time: 017 sec | loss: 0.01125 | err: 0.37000\n",
      "training time: 227.25707936286926 seconds\n",
      "now training strategic model\n"
     ]
    },
    {
     "name": "stderr",
     "output_type": "stream",
     "text": [
      "c:\\Users\\Ori Anvar\\anaconda3\\lib\\site-packages\\cvxpy\\reductions\\solvers\\solving_chain.py:213: UserWarning: You are solving a parameterized problem that is not DPP. Because the problem is not DPP, subsequent solves will not be faster than the first one. For more information, see the documentation on Discplined Parametrized Programming, at\n",
      "\thttps://www.cvxpy.org/tutorial/advanced/index.html#disciplined-parametrized-programming\n",
      "  warnings.warn(dpp_error_msg)\n"
     ]
    },
    {
     "name": "stdout",
     "output_type": "stream",
     "text": [
      "batch 001 / 001 | loss: 0.00638 | err: 0.37000\n",
      "model saved!\n",
      "------------- epoch 001 / 010 | time: 022 sec | loss: 0.02668 | err: 0.38000\n",
      "batch 001 / 001 | loss: 0.05023 | err: 0.37000\n",
      "model saved!\n",
      "------------- epoch 002 / 010 | time: 022 sec | loss: 0.00534 | err: 0.38000\n",
      "batch 001 / 001 | loss: 0.00896 | err: 0.35000\n",
      "model saved!\n",
      "------------- epoch 003 / 010 | time: 021 sec | loss: 0.08039 | err: 0.38000\n",
      "batch 001 / 001 | loss: 0.02187 | err: 0.35000\n",
      "model saved!\n",
      "------------- epoch 004 / 010 | time: 025 sec | loss: 0.08670 | err: 0.38000\n",
      "batch 001 / 001 | loss: 0.02546 | err: 0.35000\n",
      "model saved!\n",
      "------------- epoch 005 / 010 | time: 024 sec | loss: 0.03998 | err: 0.38000\n",
      "batch 001 / 001 | loss: 0.00984 | err: 0.35000\n",
      "model saved!\n",
      "------------- epoch 006 / 010 | time: 022 sec | loss: 0.00968 | err: 0.38000\n",
      "batch 001 / 001 | loss: 0.00455 | err: 0.35000\n",
      "model saved!\n",
      "------------- epoch 007 / 010 | time: 020 sec | loss: 0.00337 | err: 0.38000\n",
      "batch 001 / 001 | loss: 0.00894 | err: 0.36000\n",
      "model saved!\n",
      "------------- epoch 008 / 010 | time: 017 sec | loss: 0.00382 | err: 0.38000\n",
      "batch 001 / 001 | loss: 0.01148 | err: 0.35000\n",
      "model saved!\n",
      "------------- epoch 009 / 010 | time: 021 sec | loss: 0.00317 | err: 0.37000\n",
      "batch 001 / 001 | loss: 0.00836 | err: 0.36000\n",
      "model saved!\n",
      "------------- epoch 010 / 010 | time: 020 sec | loss: 0.00605 | err: 0.37000\n",
      "training time: 219.73674321174622 seconds\n",
      "now training strategic model\n"
     ]
    },
    {
     "name": "stderr",
     "output_type": "stream",
     "text": [
      "c:\\Users\\Ori Anvar\\anaconda3\\lib\\site-packages\\cvxpy\\reductions\\solvers\\solving_chain.py:213: UserWarning: You are solving a parameterized problem that is not DPP. Because the problem is not DPP, subsequent solves will not be faster than the first one. For more information, see the documentation on Discplined Parametrized Programming, at\n",
      "\thttps://www.cvxpy.org/tutorial/advanced/index.html#disciplined-parametrized-programming\n",
      "  warnings.warn(dpp_error_msg)\n"
     ]
    },
    {
     "name": "stdout",
     "output_type": "stream",
     "text": [
      "batch 001 / 001 | loss: 0.21788 | err: 0.37000\n",
      "model saved!\n",
      "------------- epoch 001 / 010 | time: 025 sec | loss: 0.02492 | err: 0.38000\n",
      "batch 001 / 001 | loss: 0.00806 | err: 0.37000\n",
      "model saved!\n",
      "------------- epoch 002 / 010 | time: 022 sec | loss: 0.01154 | err: 0.39000\n",
      "batch 001 / 001 | loss: 0.03972 | err: 0.35000\n",
      "model saved!\n",
      "------------- epoch 003 / 010 | time: 022 sec | loss: 0.01346 | err: 0.38000\n",
      "batch 001 / 001 | loss: 0.04521 | err: 0.33000\n",
      "model saved!\n",
      "------------- epoch 004 / 010 | time: 024 sec | loss: 0.00434 | err: 0.35000\n",
      "batch 001 / 001 | loss: 0.01619 | err: 0.34000\n",
      "model saved!\n",
      "------------- epoch 005 / 010 | time: 029 sec | loss: 0.06835 | err: 0.34000\n",
      "batch 001 / 001 | loss: 0.01903 | err: 0.33000\n",
      "model saved!\n",
      "------------- epoch 006 / 010 | time: 026 sec | loss: 0.11689 | err: 0.32000\n",
      "batch 001 / 001 | loss: 0.04110 | err: 0.33000\n",
      "model saved!\n",
      "------------- epoch 007 / 010 | time: 026 sec | loss: 0.07559 | err: 0.31000\n",
      "batch 001 / 001 | loss: 0.02211 | err: 0.33000\n",
      "model saved!\n",
      "------------- epoch 008 / 010 | time: 028 sec | loss: 0.02298 | err: 0.31000\n",
      "batch 001 / 001 | loss: 0.00959 | err: 0.33000\n",
      "model saved!\n",
      "------------- epoch 009 / 010 | time: 028 sec | loss: 0.00347 | err: 0.31000\n",
      "batch 001 / 001 | loss: 0.01718 | err: 0.33000\n",
      "model saved!\n",
      "------------- epoch 010 / 010 | time: 026 sec | loss: 0.00259 | err: 0.32000\n",
      "training time: 261.0755455493927 seconds\n",
      "now training strategic model\n"
     ]
    },
    {
     "name": "stderr",
     "output_type": "stream",
     "text": [
      "c:\\Users\\Ori Anvar\\anaconda3\\lib\\site-packages\\cvxpy\\reductions\\solvers\\solving_chain.py:213: UserWarning: You are solving a parameterized problem that is not DPP. Because the problem is not DPP, subsequent solves will not be faster than the first one. For more information, see the documentation on Discplined Parametrized Programming, at\n",
      "\thttps://www.cvxpy.org/tutorial/advanced/index.html#disciplined-parametrized-programming\n",
      "  warnings.warn(dpp_error_msg)\n"
     ]
    },
    {
     "name": "stdout",
     "output_type": "stream",
     "text": [
      "batch 001 / 001 | loss: 0.27272 | err: 0.37000\n",
      "model saved!\n",
      "------------- epoch 001 / 010 | time: 025 sec | loss: 0.05277 | err: 0.38000\n",
      "batch 001 / 001 | loss: 0.06871 | err: 0.37000\n",
      "model saved!\n",
      "------------- epoch 002 / 010 | time: 011 sec | loss: 0.00390 | err: 0.40000\n",
      "batch 001 / 001 | loss: 0.01827 | err: 0.36000\n",
      "model saved!\n",
      "------------- epoch 003 / 010 | time: 010 sec | loss: 0.02801 | err: 0.39000\n",
      "batch 001 / 001 | loss: 0.06479 | err: 0.36000\n",
      "model saved!\n",
      "------------- epoch 004 / 010 | time: 009 sec | loss: 0.00322 | err: 0.36000\n",
      "batch 001 / 001 | loss: 0.00949 | err: 0.35000\n",
      "model saved!\n",
      "------------- epoch 005 / 010 | time: 008 sec | loss: 0.00320 | err: 0.33000\n",
      "batch 001 / 001 | loss: 0.01112 | err: 0.34000\n",
      "model saved!\n",
      "------------- epoch 006 / 010 | time: 008 sec | loss: 0.00683 | err: 0.33000\n",
      "batch 001 / 001 | loss: 0.02561 | err: 0.34000\n",
      "model saved!\n",
      "------------- epoch 007 / 010 | time: 008 sec | loss: 0.00445 | err: 0.33000\n",
      "batch 001 / 001 | loss: 0.02226 | err: 0.35000\n",
      "model saved!\n",
      "------------- epoch 008 / 010 | time: 009 sec | loss: 0.00096 | err: 0.33000\n",
      "batch 001 / 001 | loss: 0.01057 | err: 0.36000\n",
      "model saved!\n",
      "------------- epoch 009 / 010 | time: 008 sec | loss: 0.00174 | err: 0.33000\n",
      "batch 001 / 001 | loss: 0.00162 | err: 0.35000\n",
      "model saved!\n",
      "------------- epoch 010 / 010 | time: 008 sec | loss: 0.00943 | err: 0.33000\n",
      "training time: 108.45865178108215 seconds\n"
     ]
    }
   ],
   "source": [
    "# defining different environments for different slopes\n",
    "slope_vals = [0.1, 1, 2, 5, 10]\n",
    "\n",
    "\n",
    "for slope_val in slope_vals:\n",
    "    # training with different slopes\n",
    "    env_params = {'noisyscale' : 0.01,\n",
    "                'n_features' : 5,\n",
    "                'k' : 40,\n",
    "                'k_tag' : 20,\n",
    "                'n_users': 200,\n",
    "                'slope_low' : slope_val,\n",
    "                'slope_high' : slope_val,\n",
    "                'acp_reward' : 0.6,\n",
    "                'funcs' : funcs,\n",
    "                'funcs_batch' : funcs_batch,\n",
    "                'scale' : 1}\n",
    "    \n",
    "    rank_env = RankingEnv(**env_params)\n",
    "    model = MyStrategicModel(batch_size=env_params['n_users'], env=rank_env, strategic=True)\n",
    "    \n",
    "    # generate train and test sets\n",
    "    X_train, R_train, y_train = rank_env.generate_dataset()\n",
    "    X_test, R_test, y_test = rank_env.generate_dataset()\n",
    "\n",
    "    slope_str = str(slope_val).replace('.', ',')\n",
    "    path_strategic = f\"./tests/slope_test_{slope_str}/strategic\"\n",
    "    epochs = 10\n",
    "    batch_size = env_params['n_users']\n",
    "    total = []\n",
    "    ccp = []\n",
    "\n",
    "    print('now training strategic model')\n",
    "    strategic_train_metrics, strategic_test_metrics = model.fit(path_strategic, X_train, R_train, X_test, R_test,\n",
    "                        opt=torch.optim.Adam, opt_kwargs={\"lr\": (1e-1)},\n",
    "                        epochs=epochs, verbose=True,\n",
    "                    comment=\"batched\")\n",
    "\n",
    "    total_time = model.total_time\n",
    "    ccp_time = model.ccp_time\n",
    "    total.append(total_time)\n",
    "    ccp.append(ccp_time)\n",
    "\n",
    "    # saving slope test results\n",
    "    pd.DataFrame(np.array(total)).to_csv(path_strategic + '/total_timing_results.csv')\n",
    "    pd.DataFrame(np.array(ccp)).to_csv(path_strategic + '/ccp_timing_results.csv')\n",
    "    pd.DataFrame(strategic_train_metrics).to_csv(path_strategic + '/train_metrics.csv')\n",
    "    pd.DataFrame(strategic_test_metrics).to_csv(path_strategic + '/test_metrics.csv')\n",
    "        "
   ]
  },
  {
   "cell_type": "code",
   "execution_count": 47,
   "metadata": {
    "ExecuteTime": {
     "end_time": "2024-05-19T07:43:21.797081100Z",
     "start_time": "2024-05-19T07:43:21.433099700Z"
    }
   },
   "outputs": [
    {
     "data": {
      "image/png": "[encoded data removed]",
      "text/plain": [
       "<Figure size 864x432 with 1 Axes>"
      ]
     },
     "metadata": {
      "needs_background": "light"
     },
     "output_type": "display_data"
    }
   ],
   "source": [
    "# seeing for which slopes we achieved better results\n",
    "# defining differen environments for different slopes\n",
    "slope_vals = [0.1, 1, 2, 5, 10]\n",
    "train_metrics = pd.DataFrame([])\n",
    "test_metrics = pd.DataFrame([])\n",
    "\n",
    "for slope_val in slope_vals:\n",
    "    slope_str = str(slope_val).replace('.', ',')\n",
    "    path_strategic = f\"./tests/slope_test_{slope_str}/strategic\"\n",
    "\n",
    "    # reading metrics\n",
    "    train_metric = pd.read_csv(path_strategic + '/train_metrics.csv')\n",
    "    train_metric[\"slope_val\"] = slope_val\n",
    "    train_metrics = pd.concat([train_metrics, train_metric])\n",
    "\n",
    "    test_metric = pd.read_csv(path_strategic + '/test_metrics.csv')\n",
    "    test_metric[\"slope_val\"] = slope_val\n",
    "    test_metrics = pd.concat([test_metrics, test_metric])\n",
    "\n",
    "\n",
    "# TODO: results are not good (in precision, recall and ndcg), maybe there is a problem with the model. implement naive approach (strategic data and non-strategic model) and compare\n",
    "# plotting\n",
    "(\n",
    "    test_metrics[test_metrics['epoch num'] == 9]\n",
    "    .pivot(\n",
    "        index='precision',\n",
    "        columns='slope_val',\n",
    "        values='burden',\n",
    "    )\n",
    "    .plot.line(\n",
    "        title='precision over different slope vals',\n",
    "        xlabel='Precision',\n",
    "        ylabel='Burden',\n",
    "        figsize=(12,6),\n",
    "        marker='o'\n",
    "    )\n",
    ")\n",
    "plt.show()\n",
    "\n",
    "# plotting our scatter plot\n",
    "# for test_metric in test_metrics:\n",
    "#     our_scatter()\n"
   ]
  },
  {
   "cell_type": "markdown",
   "metadata": {},
   "source": [
    "**Part 2:** in 5D (without scatter plotting)."
   ]
  },
  {
   "cell_type": "code",
   "execution_count": null,
   "metadata": {},
   "outputs": [],
   "source": []
  },
  {
   "cell_type": "markdown",
   "metadata": {},
   "source": [
    "### Experiment 2: Burden vs. Accuracy for different k values"
   ]
  },
  {
   "cell_type": "code",
   "execution_count": null,
   "metadata": {
    "ExecuteTime": {
     "end_time": "2024-05-19T07:41:59.333067700Z",
     "start_time": "2024-05-19T07:41:59.028879Z"
    },
    "collapsed": false
   },
   "outputs": [
    {
     "data": {
      "image/png": "[encoded data removed]",
      "text/plain": [
       "<Figure size 576x288 with 1 Axes>"
      ]
     },
     "metadata": {
      "needs_background": "light"
     },
     "output_type": "display_data"
    }
   ],
   "source": [
    "# plotting how the function looks for different contest parameters\n",
    "def ccp_sigmoid(x, tau):\n",
    "  return 0.5*np.sqrt(((x/tau + 1) ** 2) + 1) - 0.5*np.sqrt(((x/tau - 1) ** 2) + 1)\n",
    "\n",
    "def ccp_smooth_f(x, a_low=50, a_high=20, T_low=0.4, T_high=0.7, b=0.5):\n",
    "  return b*ccp_sigmoid(x - T_low, tau=1/a_low) + (1-b)*ccp_sigmoid(x - T_high, tau=1/a_high)\n",
    "\n",
    "fig, ax = plt.subplots(1,1,figsize=(8,4))\n",
    "r = np.linspace(0, 1, 1000)\n",
    "ax.plot(r,ccp_smooth_f(r, a_low=10),color='purple', label='smooth $b_{low}=10$')\n",
    "ax.plot(r,ccp_smooth_f(r, a_low=30),color='green', label='smooth $b_{low}=30$')\n",
    "ax.plot(r,(ccp_smooth_f(r, a_low=60, a_high=60, b=0.4)),color='red', label='CCP smooth $a_{low}=60$')\n",
    "ax.set_xlabel('rating')\n",
    "ax.set_ylabel('reward')\n",
    "ax.set_title('$h(r)$')\n",
    "ax.legend()\n",
    "ax.grid(True)"
   ]
  },
  {
   "cell_type": "code",
   "execution_count": null,
   "metadata": {},
   "outputs": [],
   "source": [
    "# defining 3 differen environments for 3 different models: low k, k, and high k\n",
    "k_vals = [??????]\n",
    "\n",
    "\n",
    "for k in k_vals:\n",
    "    # training with different slopes\n",
    "    env_params = {'noisyscale' : 0.01,\n",
    "                'n_features' : 5,\n",
    "                'k' : k,\n",
    "                'k_tag' : k,\n",
    "                'n_users': 200,\n",
    "                'slope_low' : ???????,\n",
    "                'slope_high' : ???????,\n",
    "                'acp_reward' : 0.6,\n",
    "                'funcs' : funcs,\n",
    "                'funcs_batch' : funcs_batch,\n",
    "                'scale' : 1}\n",
    "    \n",
    "    rank_env = RankingEnv(**env_params)\n",
    "    model = MyStrategicModel(batch_size=env_params['n_users'], env=rank_env, strategic=True)\n",
    "    \n",
    "    # generate train and test sets\n",
    "    X_train, R_train, y_train = rank_env.generate_dataset()\n",
    "    X_test, R_test, y_test = rank_env.generate_dataset()\n",
    "\n",
    "    path_strategic = f\"./tests/k_test_{k}/strategic\"\n",
    "    epochs = 10\n",
    "    batch_size = env_params['n_users']\n",
    "    total = []\n",
    "    ccp = []\n",
    "\n",
    "    print('now training strategic model')\n",
    "    strategic_train_metrics, strategic_test_metrics = model.fit(path_strategic, X_train, R_train, X_test, R_test,\n",
    "                        opt=torch.optim.Adam, opt_kwargs={\"lr\": (1e-1)},\n",
    "                        epochs=epochs, verbose=True,\n",
    "                    comment=\"batched\")\n",
    "\n",
    "    total_time = model.total_time\n",
    "    ccp_time = model.ccp_time\n",
    "    total.append(total_time)\n",
    "    ccp.append(ccp_time)\n",
    "\n",
    "    # saving baseline\n",
    "    pd.DataFrame(np.array(total)).to_csv(path_strategic + '/total_timing_results.csv')\n",
    "    pd.DataFrame(np.array(ccp)).to_csv(path_strategic + '/ccp_timing_results.csv')\n",
    "    pd.DataFrame(strategic_train_metrics).to_csv(path_strategic + '/train_metrics.csv')\n",
    "    pd.DataFrame(strategic_test_metrics).to_csv(path_strategic + '/test_metrics.csv')\n",
    "        "
   ]
  },
  {
   "cell_type": "markdown",
   "metadata": {},
   "source": [
    "### Experiment 3: Burden vs. Accuracy for different k tag values"
   ]
  },
  {
   "cell_type": "code",
   "execution_count": null,
   "metadata": {},
   "outputs": [],
   "source": []
  }
 ],
 "metadata": {
  "kernelspec": {
   "display_name": "base",
   "language": "python",
   "name": "python3"
  },
  "language_info": {
   "codemirror_mode": {
    "name": "ipython",
    "version": 3
   },
   "file_extension": ".py",
   "mimetype": "text/x-python",
   "name": "python",
   "nbconvert_exporter": "python",
   "pygments_lexer": "ipython3",
   "version": "3.7.6"
  }
 },
 "nbformat": 4,
 "nbformat_minor": 4
}
